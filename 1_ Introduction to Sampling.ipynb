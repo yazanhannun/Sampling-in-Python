{
 "cells": [
  {
   "cell_type": "markdown",
   "metadata": {},
   "source": [
    "# Introduction to Sampling\n",
    "\n",
    "Learn what sampling is and why it is so powerful. You’ll also learn about the problems caused by convenience sampling and the differences between true randomness and pseudo-randomness."
   ]
  },
  {
   "cell_type": "markdown",
   "metadata": {},
   "source": [
    "# 1. Sampling and point estimates"
   ]
  },
  {
   "cell_type": "markdown",
   "metadata": {},
   "source": [
    "1.1 Reasons for sampling\n",
    "\n",
    "Sampling is an important technique in your statistical arsenal. It isn't always appropriate though—you need to know when to use it and when to work with the whole dataset.\n",
    "\n",
    "Which of the following is not a good scenario to use sampling?\n",
    "\n",
    "Possible Answers:\n",
    "- You've been handed one terabyte of data about error logs for your company's device. (True)\n",
    "\n",
    "- You wish to learn about the travel habits of all Pakistani adult citizens.\n",
    "\n",
    "- You've finished collecting data on a small study of the wing measurements for 10 butterflies.\n",
    "\n",
    "- You are working to predict customer turnover on a big data project for your marketing firm."
   ]
  },
  {
   "cell_type": "markdown",
   "metadata": {},
   "source": [
    "Ten butterflies is a small dataset, so sampling isn't useful here."
   ]
  },
  {
   "cell_type": "markdown",
   "metadata": {},
   "source": [
    "1.2 Simple sampling with pandas\n",
    "\n",
    "Throughout this chapter, you'll be exploring song data from Spotify. Each row of this population dataset represents a song, and there are over 40,000 rows. Columns include the song name, the artists who performed it, the release year, and attributes of the song like its duration, tempo, and danceability. You'll start by looking at the durations.\n",
    "\n",
    "Your first task is to sample the Spotify dataset and compare the mean duration of the population with the sample."
   ]
  },
  {
   "cell_type": "code",
   "execution_count": 3,
   "metadata": {},
   "outputs": [],
   "source": [
    "import pandas as pd\n",
    "spotify_population = pd.read_feather(\"C:\\\\Users\\\\yazan\\\\Desktop\\\\Data_Analytics\\\\8-Sampling in Python\\Datasets\\\\spotify_2000_2020.feather\")"
   ]
  },
  {
   "cell_type": "code",
   "execution_count": 4,
   "metadata": {},
   "outputs": [
    {
     "name": "stdout",
     "output_type": "stream",
     "text": [
      "       acousticness                  artists  danceability  duration_ms  \\\n",
      "31992        0.4260       ['Patrick Sweany']        0.4030     348707.0   \n",
      "9563         0.8700          ['Alex Turner']        0.4360     247013.0   \n",
      "3307         0.6580        ['Nature Sounds']        0.0884     570336.0   \n",
      "13868        0.0391        ['Pretty Lights']        0.6400     344000.0   \n",
      "22602        0.0151            ['21 Savage']        0.8840     220307.0   \n",
      "...             ...                      ...           ...          ...   \n",
      "781          0.0643                 ['Guts']        0.8740     313168.0   \n",
      "31026        0.5680  ['Maroon 5', 'Cardi B']        0.8510     235545.0   \n",
      "25378        0.8420          ['Johnny Cash']        0.4210     196733.0   \n",
      "40942        0.8460        ['Ciaran Lavery']        0.6190     251960.0   \n",
      "38678        0.2030        ['Brooks & Dunn']        0.6790     201427.0   \n",
      "\n",
      "       duration_minutes  energy  explicit                      id  \\\n",
      "31992          5.811783   0.394       0.0  4WeeCdOInoH5HyO8xcxiAt   \n",
      "9563           4.116883   0.244       0.0  1XYX4JnSULbKGCi5uSjeJy   \n",
      "3307           9.505600   0.372       0.0  5BL1C6j9kUBqy0mrcO0yrj   \n",
      "13868          5.733333   0.775       0.0  1S27YnqoB8VygeNWj2yOa2   \n",
      "22602          3.671783   0.346       1.0  2fQrGHiQOvpL9UgPvtYy6G   \n",
      "...                 ...     ...       ...                     ...   \n",
      "781            5.219467   0.575       0.0  3NlJO0Tf9FLjUTHepZgxYf   \n",
      "31026          3.925750   0.541       1.0  6FRLCMO5TUHTexlWo8ym1W   \n",
      "25378          3.278883   0.257       0.0  76pllrWpfiCoLGhijQBYhO   \n",
      "40942          4.199333   0.299       0.0  1d39v4V4DmrrLiFX4DKHBv   \n",
      "38678          3.357117   0.779       0.0  7K1a1MSYYqTgPofuGD6ctM   \n",
      "\n",
      "       instrumentalness  key  liveness  loudness  mode  \\\n",
      "31992          0.013300  0.0    0.1350    -8.368   1.0   \n",
      "9563           0.000371  0.0    0.1020   -19.096   1.0   \n",
      "3307           0.976000  1.0    0.0761   -37.580   1.0   \n",
      "13868          0.032700  9.0    0.1900    -6.853   1.0   \n",
      "22602          0.000007  8.0    0.0871    -8.228   0.0   \n",
      "...                 ...  ...       ...       ...   ...   \n",
      "781            0.210000  5.0    0.5570   -10.022   1.0   \n",
      "31026          0.000000  0.0    0.1300    -6.825   1.0   \n",
      "25378          0.000001  9.0    0.5290   -15.478   1.0   \n",
      "40942          0.000050  2.0    0.2430    -7.744   1.0   \n",
      "38678          0.000000  9.0    0.2190    -5.124   1.0   \n",
      "\n",
      "                                   name  popularity release_date  speechiness  \\\n",
      "31992                        Them Shoes        51.0         2007       0.0257   \n",
      "9563   It's hard to get around the wind        44.0   2011-03-15       0.0339   \n",
      "3307      Relaxed Circling Thunderstorm        50.0   2012-09-25       0.0397   \n",
      "13868                     We Must Go On        48.0   2013-02-27       0.0410   \n",
      "22602                      Bank Account        79.0   2017-09-23       0.3510   \n",
      "...                                 ...         ...          ...          ...   \n",
      "781              And the Living Is Easy        60.0   2007-06-01       0.0432   \n",
      "31026    Girls Like You (feat. Cardi B)        78.0   2018-05-30       0.0505   \n",
      "25378               You Are My Sunshine        60.0   2003-01-01       0.0893   \n",
      "40942                             Shame        57.0   2013-03-04       0.0279   \n",
      "38678       She's Not the Cheatin' Kind        51.0   2012-04-17       0.0334   \n",
      "\n",
      "         tempo  valence    year  \n",
      "31992   81.675   0.4710  2007.0  \n",
      "9563   145.420   0.3590  2011.0  \n",
      "3307    85.880   0.0265  2012.0  \n",
      "13868   89.972   0.6550  2013.0  \n",
      "22602   75.016   0.3760  2017.0  \n",
      "...        ...      ...     ...  \n",
      "781    114.984   0.5710  2007.0  \n",
      "31026  124.959   0.4480  2018.0  \n",
      "25378   89.787   0.5600  2003.0  \n",
      "40942  115.405   0.3100  2013.0  \n",
      "38678  110.557   0.7030  2012.0  \n",
      "\n",
      "[1000 rows x 20 columns]\n",
      "3.8521519140900073\n",
      "3.8998285666666668\n"
     ]
    }
   ],
   "source": [
    "# Sample 1000 rows from spotify_population\n",
    "spotify_sample = spotify_population.sample(n=1000)\n",
    "\n",
    "# Print the sample\n",
    "print(spotify_sample)\n",
    "\n",
    "# Calculate the mean duration in mins from spotify_population\n",
    "mean_dur_pop = spotify_population['duration_minutes'].mean()\n",
    "\n",
    "# Calculate the mean duration in mins from spotify_sample\n",
    "mean_dur_samp = spotify_sample['duration_minutes'].mean()\n",
    "\n",
    "# Print the means\n",
    "print(mean_dur_pop)\n",
    "print(mean_dur_samp)"
   ]
  }
 ],
 "metadata": {
  "kernelspec": {
   "display_name": "Python 3.10.8 64-bit (microsoft store)",
   "language": "python",
   "name": "python3"
  },
  "language_info": {
   "codemirror_mode": {
    "name": "ipython",
    "version": 3
   },
   "file_extension": ".py",
   "mimetype": "text/x-python",
   "name": "python",
   "nbconvert_exporter": "python",
   "pygments_lexer": "ipython3",
   "version": "3.10.8"
  },
  "orig_nbformat": 4,
  "vscode": {
   "interpreter": {
    "hash": "cd85abab4e42ed52d78993b1b54e037968b74145d44eb01d9e116517c8fc42a2"
   }
  }
 },
 "nbformat": 4,
 "nbformat_minor": 2
}

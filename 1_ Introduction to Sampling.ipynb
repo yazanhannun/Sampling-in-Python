{
 "cells": [
  {
   "cell_type": "markdown",
   "metadata": {},
   "source": [
    "# Introduction to Sampling\n",
    "\n",
    "Learn what sampling is and why it is so powerful. You’ll also learn about the problems caused by convenience sampling and the differences between true randomness and pseudo-randomness."
   ]
  },
  {
   "cell_type": "markdown",
   "metadata": {},
   "source": [
    "# 1. Sampling and point estimates"
   ]
  },
  {
   "cell_type": "markdown",
   "metadata": {},
   "source": [
    "<b>1.1 Reasons for sampling</b>\n",
    "\n",
    "Sampling is an important technique in your statistical arsenal. It isn't always appropriate though—you need to know when to use it and when to work with the whole dataset.\n",
    "\n",
    "Which of the following is not a good scenario to use sampling?\n",
    "\n",
    "Possible Answers:\n",
    "- You've been handed one terabyte of data about error logs for your company's device. (True)\n",
    "\n",
    "- You wish to learn about the travel habits of all Pakistani adult citizens.\n",
    "\n",
    "- You've finished collecting data on a small study of the wing measurements for 10 butterflies.\n",
    "\n",
    "- You are working to predict customer turnover on a big data project for your marketing firm."
   ]
  },
  {
   "cell_type": "markdown",
   "metadata": {},
   "source": [
    "Ten butterflies is a small dataset, so sampling isn't useful here."
   ]
  },
  {
   "cell_type": "markdown",
   "metadata": {},
   "source": [
    "<b>1.2 Simple sampling with pandas</b>\n",
    "\n",
    "Throughout this chapter, you'll be exploring song data from Spotify. Each row of this population dataset represents a song, and there are over 40,000 rows. Columns include the song name, the artists who performed it, the release year, and attributes of the song like its duration, tempo, and danceability. You'll start by looking at the durations.\n",
    "\n",
    "Your first task is to sample the Spotify dataset and compare the mean duration of the population with the sample."
   ]
  },
  {
   "cell_type": "code",
   "execution_count": 10,
   "metadata": {},
   "outputs": [],
   "source": [
    "import pandas as pd\n",
    "import numpy as np\n",
    "spotify_population = pd.read_feather(\"C:\\\\Users\\\\yazan\\\\Desktop\\\\Data_Analytics\\\\8-Sampling in Python\\Datasets\\\\spotify_2000_2020.feather\")"
   ]
  },
  {
   "cell_type": "code",
   "execution_count": 11,
   "metadata": {},
   "outputs": [
    {
     "name": "stdout",
     "output_type": "stream",
     "text": [
      "       acousticness                                            artists  \\\n",
      "31320       0.80200                                     ['The Whites']   \n",
      "26473       0.35100                                    ['Trevor Hall']   \n",
      "26239       0.00481                                     ['Jawga Boyz']   \n",
      "10228       0.10400  ['Rae Sremmurd', 'Swae Lee', 'Slim Jxmmi', 'Tr...   \n",
      "11071       0.75800                                    ['Johnny Gill']   \n",
      "...             ...                                                ...   \n",
      "35377       0.06200                        ['Diplo', 'Jonas Brothers']   \n",
      "29331       0.00702                                    ['Project Pat']   \n",
      "22256       0.30200                                        ['J. Cole']   \n",
      "25205       0.43700                                      ['Nate Dogg']   \n",
      "988         0.95200                            ['Scripture Lullabies']   \n",
      "\n",
      "       danceability  duration_ms  duration_minutes  energy  explicit  \\\n",
      "31320         0.659     214307.0          3.571783   0.256       0.0   \n",
      "26473         0.693     274632.0          4.577200   0.367       0.0   \n",
      "26239         0.687     371398.0          6.189967   0.729       0.0   \n",
      "10228         0.691     193510.0          3.225167   0.736       1.0   \n",
      "11071         0.514     337053.0          5.617550   0.383       0.0   \n",
      "...             ...          ...               ...     ...       ...   \n",
      "35377         0.738     139813.0          2.330217   0.717       0.0   \n",
      "29331         0.889     207333.0          3.455550   0.837       1.0   \n",
      "22256         0.696     292987.0          4.883117   0.521       1.0   \n",
      "25205         0.912     236227.0          3.937117   0.416       1.0   \n",
      "988           0.171     251053.0          4.184217   0.115       0.0   \n",
      "\n",
      "                           id  instrumentalness   key  liveness  loudness  \\\n",
      "31320  3uHV4rbEWjIkNTn3qTPt0d          0.000002  10.0    0.1190   -12.421   \n",
      "26473  0c7iF5fSBYxCuwsAv2z4iI          0.000029   3.0    0.1110   -11.660   \n",
      "26239  63oXfvnKh3wm09ONxi5lt7          0.000435   9.0    0.1230    -6.916   \n",
      "10228  1oUudyBYVGMIC8JXeIsFzq          0.000000   0.0    0.1110    -4.993   \n",
      "11071  2iuxkLWYyX2xCNtognHA7a          0.000004   6.0    0.1630   -11.002   \n",
      "...                       ...               ...   ...       ...       ...   \n",
      "35377  0prJ6Nafa5rklRc8rZUNSG          0.000000   1.0    0.2050    -5.121   \n",
      "29331  2iiCDhPr51If2XCDQJJ0nC          0.000000   7.0    0.0774    -5.040   \n",
      "22256  62vpWI1CHwFy7tMIcSStl8          0.000000  10.0    0.0565    -8.465   \n",
      "25205  52riputZ4Vo5PG9MOSy6r5          0.306000  10.0    0.0900    -5.943   \n",
      "988    3bOrCXvrwO6CFOVXUUFDCG          0.000881  10.0    0.1150   -15.338   \n",
      "\n",
      "       mode                                     name  popularity release_date  \\\n",
      "31320   1.0                   Keep On The Sunny Side        47.0   2000-12-05   \n",
      "26473   1.0                     Green Mountain State        64.0   2014-06-17   \n",
      "26239   0.0                               Ridin High        57.0   2011-05-01   \n",
      "10228   1.0  CLOSE (feat. Travis Scott) - From SR3MM        65.0   2018-05-04   \n",
      "11071   1.0            You For Me (The Wedding Song)        40.0   2005-01-01   \n",
      "...     ...                                      ...         ...          ...   \n",
      "35377   1.0             Lonely (with Jonas Brothers)        75.0   2020-04-17   \n",
      "29331   1.0                          Cheese and Dope        48.0   2001-02-13   \n",
      "22256   0.0                           No Role Modelz        82.0   2014-12-09   \n",
      "25205   0.0                               I Got Love        61.0   2001-12-04   \n",
      "988     1.0                        Be Still and Know        47.0   2009-11-21   \n",
      "\n",
      "       speechiness    tempo  valence    year  \n",
      "31320       0.0303   95.737   0.7560  2000.0  \n",
      "26473       0.0323  129.879   0.2860  2014.0  \n",
      "26239       0.0308  140.004   0.2590  2011.0  \n",
      "10228       0.0321  140.034   0.0395  2018.0  \n",
      "11071       0.0359  118.887   0.2510  2005.0  \n",
      "...            ...      ...      ...     ...  \n",
      "35377       0.0573   98.047   0.5000  2020.0  \n",
      "29331       0.1730   75.188   0.9440  2001.0  \n",
      "22256       0.3320  100.000   0.4580  2014.0  \n",
      "25205       0.1640   90.013   0.6770  2001.0  \n",
      "988         0.0328   70.935   0.1340  2009.0  \n",
      "\n",
      "[1000 rows x 20 columns]\n",
      "3.8521519140900073\n",
      "3.8485647166666666\n"
     ]
    }
   ],
   "source": [
    "# Sample 1000 rows from spotify_population\n",
    "spotify_sample = spotify_population.sample(n=1000)\n",
    "\n",
    "# Print the sample\n",
    "print(spotify_sample)\n",
    "\n",
    "# Calculate the mean duration in mins from spotify_population\n",
    "mean_dur_pop = spotify_population['duration_minutes'].mean()\n",
    "\n",
    "# Calculate the mean duration in mins from spotify_sample\n",
    "mean_dur_samp = spotify_sample['duration_minutes'].mean()\n",
    "\n",
    "# Print the means\n",
    "print(mean_dur_pop)\n",
    "print(mean_dur_samp)"
   ]
  },
  {
   "cell_type": "markdown",
   "metadata": {},
   "source": [
    "<b>1.3 Simple sampling and calculating with NumPy</b>\n",
    "\n",
    "You can also use numpy to calculate parameters or statistics from a list or pandas Series.\n",
    "\n",
    "You'll be turning it up to eleven and looking at the loudness property of each song."
   ]
  },
  {
   "cell_type": "code",
   "execution_count": 16,
   "metadata": {},
   "outputs": [
    {
     "name": "stdout",
     "output_type": "stream",
     "text": [
      "-7.366856851353947\n",
      "-7.470740000000002\n"
     ]
    }
   ],
   "source": [
    "# Create a pandas Series from the loudness column of spotify_population\n",
    "loudness_pop = spotify_population['loudness']\n",
    "\n",
    "# Sample 100 values of loudness_pop\n",
    "loudness_samp = loudness_pop.sample(n=100)\n",
    "\n",
    "# Calculate the mean of loudness_pop\n",
    "mean_loudness_pop = np.mean(loudness_pop)\n",
    "\n",
    "# Calculate the mean of loudness_samp\n",
    "mean_loudness_samp = np.mean(loudness_samp)\n",
    "\n",
    "# Print the means\n",
    "print(mean_loudness_pop)\n",
    "print(mean_loudness_samp)"
   ]
  }
 ],
 "metadata": {
  "kernelspec": {
   "display_name": "Python 3.10.8 64-bit (microsoft store)",
   "language": "python",
   "name": "python3"
  },
  "language_info": {
   "codemirror_mode": {
    "name": "ipython",
    "version": 3
   },
   "file_extension": ".py",
   "mimetype": "text/x-python",
   "name": "python",
   "nbconvert_exporter": "python",
   "pygments_lexer": "ipython3",
   "version": "3.10.8"
  },
  "orig_nbformat": 4,
  "vscode": {
   "interpreter": {
    "hash": "cd85abab4e42ed52d78993b1b54e037968b74145d44eb01d9e116517c8fc42a2"
   }
  }
 },
 "nbformat": 4,
 "nbformat_minor": 2
}

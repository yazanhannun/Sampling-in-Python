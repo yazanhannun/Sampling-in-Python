{
 "cells": [
  {
   "cell_type": "markdown",
   "metadata": {},
   "source": [
    "# Introduction to Sampling\n",
    "\n",
    "Learn what sampling is and why it is so powerful. You’ll also learn about the problems caused by convenience sampling and the differences between true randomness and pseudo-randomness."
   ]
  },
  {
   "cell_type": "markdown",
   "metadata": {},
   "source": [
    "# 1. Sampling and point estimates"
   ]
  },
  {
   "cell_type": "markdown",
   "metadata": {},
   "source": [
    "<b>1.1 Reasons for sampling</b>\n",
    "\n",
    "Sampling is an important technique in your statistical arsenal. It isn't always appropriate though—you need to know when to use it and when to work with the whole dataset.\n",
    "\n",
    "Which of the following is not a good scenario to use sampling?\n",
    "\n",
    "Possible Answers:\n",
    "- You've been handed one terabyte of data about error logs for your company's device. (True)\n",
    "\n",
    "- You wish to learn about the travel habits of all Pakistani adult citizens.\n",
    "\n",
    "- You've finished collecting data on a small study of the wing measurements for 10 butterflies.\n",
    "\n",
    "- You are working to predict customer turnover on a big data project for your marketing firm."
   ]
  },
  {
   "cell_type": "markdown",
   "metadata": {},
   "source": [
    "Ten butterflies is a small dataset, so sampling isn't useful here."
   ]
  },
  {
   "cell_type": "markdown",
   "metadata": {},
   "source": [
    "<b>1.2 Simple sampling with pandas</b>\n",
    "\n",
    "Throughout this chapter, you'll be exploring song data from Spotify. Each row of this population dataset represents a song, and there are over 40,000 rows. Columns include the song name, the artists who performed it, the release year, and attributes of the song like its duration, tempo, and danceability. You'll start by looking at the durations.\n",
    "\n",
    "Your first task is to sample the Spotify dataset and compare the mean duration of the population with the sample."
   ]
  },
  {
   "cell_type": "code",
   "execution_count": 2,
   "metadata": {},
   "outputs": [],
   "source": [
    "import pandas as pd\n",
    "import numpy as np\n",
    "import matplotlib.pyplot as plt\n",
    "spotify_population = pd.read_feather(\"C:\\\\Users\\\\yazan\\\\Desktop\\\\Data_Analytics\\\\8-Sampling in Python\\Datasets\\\\spotify_2000_2020.feather\")"
   ]
  },
  {
   "cell_type": "code",
   "execution_count": 3,
   "metadata": {},
   "outputs": [
    {
     "name": "stdout",
     "output_type": "stream",
     "text": [
      "       acousticness                    artists  danceability  duration_ms  \\\n",
      "8132         0.4470             ['Kiana Ledé']         0.789     181267.0   \n",
      "4829         0.0561  ['Red Hot Chili Peppers']         0.671     205733.0   \n",
      "22191        0.2340      ['Justin Timberlake']         0.574     484147.0   \n",
      "23350        0.1030  ['Explosions In The Sky']         0.279     496573.0   \n",
      "41177        0.0760           ['Daddy Yankee']         0.899     234320.0   \n",
      "...             ...                        ...           ...          ...   \n",
      "6387         0.6210             ['Nelson Ned']         0.435     184227.0   \n",
      "447          0.4790            ['Tito Nieves']         0.815     204307.0   \n",
      "16249        0.5130                 ['Future']         0.794     167573.0   \n",
      "9069         0.0235                   ['E-40']         0.600     228013.0   \n",
      "20294        0.5950          ['Petit Biscuit']         0.772     273162.0   \n",
      "\n",
      "       duration_minutes  energy  explicit                      id  \\\n",
      "8132           3.021117   0.435       1.0  0TYhf0MgEj4YJaKwo5c4Km   \n",
      "4829           3.428883   0.984       0.0  1jrARDhheF2nrDEevG9rmo   \n",
      "22191          8.069117   0.512       0.0  4rHZZAmHpZrA3iH5zx8frV   \n",
      "23350          8.276217   0.472       0.0  5NdxiycRi3nP2v7RJoAJIT   \n",
      "41177          3.905333   0.626       0.0  7gcMKL3lnDxsp4bIXyv6Zk   \n",
      "...                 ...     ...       ...                     ...   \n",
      "6387           3.070450   0.374       0.0  0M1ZDs2ULIiFhJu3g0x95U   \n",
      "447            3.405117   0.898       0.0  2Jcr5m0dP68G1Zlrp7iKp3   \n",
      "16249          2.792883   0.597       1.0  4iOq2DLxbRuBdrILZwOKoW   \n",
      "9069           3.800217   0.671       1.0  6JFdyoLzHdGibgutS7LrBb   \n",
      "20294          4.552700   0.745       0.0  4p1NHiFP4PfV7eW1183Ej9   \n",
      "\n",
      "       instrumentalness   key  liveness  loudness  mode  \\\n",
      "8132           0.000000   1.0    0.1350    -7.042   0.0   \n",
      "4829           0.000000   7.0    0.1130    -2.381   1.0   \n",
      "22191          0.000000   5.0    0.0946    -6.664   0.0   \n",
      "23350          0.874000   4.0    0.0630   -16.420   1.0   \n",
      "41177          0.000000   6.0    0.0631    -4.228   0.0   \n",
      "...                 ...   ...       ...       ...   ...   \n",
      "6387           0.000000   9.0    0.4100   -10.656   1.0   \n",
      "447            0.000000   7.0    0.0758    -2.648   0.0   \n",
      "16249          0.000934   7.0    0.1170    -6.552   0.0   \n",
      "9069           0.000000  11.0    0.0826    -8.971   1.0   \n",
      "20294          0.870000  11.0    0.1170   -10.194   1.0   \n",
      "\n",
      "                                   name  popularity release_date  speechiness  \\\n",
      "8132                       Wicked Games        63.0   2018-07-13       0.0599   \n",
      "4829                           Warlocks        51.0   2006-05-09       0.0955   \n",
      "22191                           Mirrors        76.0   2013-03-15       0.0503   \n",
      "23350                 Your Hand In Mine        54.0   2003-11-04       0.0295   \n",
      "41177                       Shaky Shaky        67.0   2016-04-08       0.2920   \n",
      "...                                 ...         ...          ...          ...   \n",
      "6387                    A Pesar De Todo        48.0   2000-08-29       0.0349   \n",
      "447    Ya No Queda Nada - Salsa Version        46.0         2004       0.0687   \n",
      "16249                            Lay Up        52.0   2015-01-15       0.2280   \n",
      "9069                           Yay Area        41.0   2006-03-14       0.4060   \n",
      "20294                             Alone        58.0   2015-05-18       0.0405   \n",
      "\n",
      "         tempo  valence    year  \n",
      "8132    72.973    0.456  2018.0  \n",
      "4829    97.743    0.871  2006.0  \n",
      "22191   76.899    0.512  2013.0  \n",
      "23350  115.130    0.135  2003.0  \n",
      "41177   88.007    0.873  2016.0  \n",
      "...        ...      ...     ...  \n",
      "6387    94.322    0.481  2000.0  \n",
      "447     95.035    0.857  2004.0  \n",
      "16249  143.080    0.580  2015.0  \n",
      "9069    93.704    0.575  2006.0  \n",
      "20294  116.014    0.166  2015.0  \n",
      "\n",
      "[1000 rows x 20 columns]\n",
      "3.8521519140900073\n",
      "3.848038066666667\n"
     ]
    }
   ],
   "source": [
    "# Sample 1000 rows from spotify_population\n",
    "spotify_sample = spotify_population.sample(n=1000)\n",
    "\n",
    "# Print the sample\n",
    "print(spotify_sample)\n",
    "\n",
    "# Calculate the mean duration in mins from spotify_population\n",
    "mean_dur_pop = spotify_population['duration_minutes'].mean()\n",
    "\n",
    "# Calculate the mean duration in mins from spotify_sample\n",
    "mean_dur_samp = spotify_sample['duration_minutes'].mean()\n",
    "\n",
    "# Print the means\n",
    "print(mean_dur_pop)\n",
    "print(mean_dur_samp)"
   ]
  },
  {
   "cell_type": "markdown",
   "metadata": {},
   "source": [
    "<b>1.3 Simple sampling and calculating with NumPy</b>\n",
    "\n",
    "You can also use numpy to calculate parameters or statistics from a list or pandas Series.\n",
    "\n",
    "You'll be turning it up to eleven and looking at the loudness property of each song."
   ]
  },
  {
   "cell_type": "code",
   "execution_count": 4,
   "metadata": {},
   "outputs": [
    {
     "name": "stdout",
     "output_type": "stream",
     "text": [
      "-7.366856851353947\n",
      "-6.7744100000000005\n"
     ]
    }
   ],
   "source": [
    "# Create a pandas Series from the loudness column of spotify_population\n",
    "loudness_pop = spotify_population['loudness']\n",
    "\n",
    "# Sample 100 values of loudness_pop\n",
    "loudness_samp = loudness_pop.sample(n=100)\n",
    "\n",
    "# Calculate the mean of loudness_pop\n",
    "mean_loudness_pop = np.mean(loudness_pop)\n",
    "\n",
    "# Calculate the mean of loudness_samp\n",
    "mean_loudness_samp = np.mean(loudness_samp)\n",
    "\n",
    "# Print the means\n",
    "print(mean_loudness_pop)\n",
    "print(mean_loudness_samp)"
   ]
  },
  {
   "cell_type": "markdown",
   "metadata": {},
   "source": [
    "# 2. Convenience sampling"
   ]
  },
  {
   "cell_type": "markdown",
   "metadata": {},
   "source": [
    "<b>2.1 Are findings from the sample generalizable?</b>\n",
    "\n",
    "Sampling—collecting data using the easiest method like(finding the average population age in France by asking a sample of people visiting Disneyland) can result in samples that aren't representative of the population. Equivalently, this means findings from the sample are not generalizable to the population. Visualizing the distributions of the population and the sample can help determine whether or not the sample is representative of the population.\n",
    "\n",
    "The Spotify dataset contains an acousticness column, which is a confidence measure from zero to one of whether the track was made with instruments that aren't plugged in. You'll compare the acousticness distribution of the total population of songs with a sample of those songs."
   ]
  },
  {
   "cell_type": "markdown",
   "metadata": {},
   "source": [
    "Plot a histogram of the acousticness from spotify_population with bins of width 0.01 from 0 to 1 using pandas .hist()."
   ]
  },
  {
   "cell_type": "code",
   "execution_count": 5,
   "metadata": {},
   "outputs": [
    {
     "data": {
      "image/png": "[encoded data removed]",
      "text/plain": [
       "<Figure size 640x480 with 1 Axes>"
      ]
     },
     "metadata": {},
     "output_type": "display_data"
    }
   ],
   "source": [
    "# Visualize the distribution of acousticness with a histogram\n",
    "spotify_population['acousticness'].hist(bins=np.arange(0, 1.01, 0.01))\n",
    "plt.show()"
   ]
  },
  {
   "cell_type": "markdown",
   "metadata": {},
   "source": [
    "Update the histogram code to use the spotify_mysterious_sample dataset."
   ]
  },
  {
   "cell_type": "code",
   "execution_count": 6,
   "metadata": {},
   "outputs": [
    {
     "data": {
      "image/png": "[encoded data removed]",
      "text/plain": [
       "<Figure size 640x480 with 1 Axes>"
      ]
     },
     "metadata": {},
     "output_type": "display_data"
    }
   ],
   "source": [
    "spotify_mysterious_sample = spotify_population[spotify_population['acousticness']>=0.951].sample(n=1000)\n",
    "\n",
    "# Update the histogram to use spotify_mysterious_sample\n",
    "spotify_mysterious_sample['acousticness'].hist(bins=np.arange(0, 1.01, 0.01))\n",
    "plt.show()"
   ]
  },
  {
   "cell_type": "markdown",
   "metadata": {},
   "source": [
    "<b>Question</b>\n",
    "\n",
    "Compare the two histograms you drew. Are the acousticness values in the sample generalizable to the general population?\n",
    "\n",
    "Possible Answers\n",
    "\n",
    "- Yes. Any sample should lead to a generalizable result about the population.\n",
    "\n",
    "- Yes. The sample selected is likely a random sample of all songs in our population.\n",
    "\n",
    "- No. Samples can never lead to generalizable results about the population.\n",
    "\n",
    "- No. The acousticness samples are consistently higher than those in the general population. (True)\n",
    "\n",
    "- No. The acousticness samples are consistently lower than those in the general population.\n",
    "\n",
    "The acousticness values in the sample are all greater than 0.95, whereas they range from 0 to 1 in the whole population."
   ]
  },
  {
   "cell_type": "markdown",
   "metadata": {},
   "source": [
    "<b>2.2 Are these findings generalizable?</b>\n",
    "\n",
    "Let's look at another sample to see if it is representative of the population. This time, you'll look at the duration_minutes column of the Spotify dataset, which contains the length of the song in minutes."
   ]
  },
  {
   "cell_type": "markdown",
   "metadata": {},
   "source": [
    "Plot a histogram of duration_minutes from spotify_population with bins of width 0.5 from 0 to 15 using pandas .hist()."
   ]
  },
  {
   "cell_type": "code",
   "execution_count": 7,
   "metadata": {},
   "outputs": [
    {
     "data": {
      "image/png": "[encoded data removed]",
      "text/plain": [
       "<Figure size 640x480 with 1 Axes>"
      ]
     },
     "metadata": {},
     "output_type": "display_data"
    }
   ],
   "source": [
    "# Visualize the distribution of duration_minutes as a histogram\n",
    "spotify_population['duration_minutes'].hist(bins=np.arange(0, 15.5, 0.5), color = 'green')\n",
    "plt.show()"
   ]
  },
  {
   "cell_type": "markdown",
   "metadata": {},
   "source": [
    "Update the histogram code to use the spotify_mysterious_sample2 dataset, which is a sample contains 50 rows from the \n",
    "spotify_sample dataset and the minimum duration in minutes is 0.8079999999999999 min and the maximum is 9.882 min."
   ]
  },
  {
   "cell_type": "code",
   "execution_count": 8,
   "metadata": {},
   "outputs": [
    {
     "data": {
      "image/png": "[encoded data removed]",
      "text/plain": [
       "<Figure size 640x480 with 1 Axes>"
      ]
     },
     "metadata": {},
     "output_type": "display_data"
    }
   ],
   "source": [
    "# Update the histogram to use spotify_mysterious_sample2\n",
    "spotify_mysterious_sample2 = spotify_population[spotify_population['duration_minutes'] >=0.8079999999999999].sample(n=50)\n",
    "spotify_mysterious_sample2['duration_minutes'].hist(bins=np.arange(0, 15.5, 0.5))\n",
    "plt.show()"
   ]
  },
  {
   "cell_type": "markdown",
   "metadata": {},
   "source": [
    "<b>Question</b>\n",
    "\n",
    "Compare the two histograms you drew. Are the duration values in the sample generalizable to the general population?\n",
    "\n",
    "Possible Answers\n",
    "\n",
    "- Yes. Any sample should lead to a generalizable result about the population.\n",
    "\n",
    "- Yes. The sample selected is likely a random sample of all songs in the population. (True)\n",
    "\n",
    "- No. Samples can never lead to generalizable results about the population.\n",
    "\n",
    "- No. The duration samples are consistently higher than those in the general population.\n",
    "\n",
    "- No. The duration samples are consistently lower than those in the general population.\n",
    "\n",
    "The duration values in the sample show a similar distribution to those in the whole population, so the results are generalizable. Because the sample selected is likely a random sample of all songs in the population"
   ]
  },
  {
   "cell_type": "markdown",
   "metadata": {},
   "source": [
    "# 3. Pseudo-random number generation"
   ]
  },
  {
   "cell_type": "markdown",
   "metadata": {},
   "source": [
    "<b>3.1 Generating random numbers</b>\n",
    "\n",
    "You've used .sample() to generate pseudo-random numbers from a set of values in a DataFrame. A related task is to generate random numbers that follow a statistical distribution, like the uniform distribution or the normal distribution.\n",
    "\n",
    "Each random number generation function has distribution-specific arguments and an argument for specifying the number of random numbers to generate"
   ]
  },
  {
   "cell_type": "code",
   "execution_count": 11,
   "metadata": {},
   "outputs": [
    {
     "name": "stdout",
     "output_type": "stream",
     "text": [
      "[-0.79766724  0.99308091  0.34002949 ...  0.05781943  2.20447104\n",
      "  0.69114316]\n",
      "[9.09120807 5.33437432 4.72255269 ... 8.48810597 5.31512756 3.82724304]\n"
     ]
    },
    {
     "data": {
      "image/png": "[encoded data removed]",
      "text/plain": [
       "<Figure size 640x480 with 1 Axes>"
      ]
     },
     "metadata": {},
     "output_type": "display_data"
    },
    {
     "data": {
      "image/png": "[encoded data removed]",
      "text/plain": [
       "<Figure size 640x480 with 1 Axes>"
      ]
     },
     "metadata": {},
     "output_type": "display_data"
    }
   ],
   "source": [
    "# Generate random numbers from a Uniform(-3, 3)\n",
    "uniforms = np.random.uniform(low=-3, high=3, size=5000)\n",
    "\n",
    "# Print normals\n",
    "print(uniforms)\n",
    "\n",
    "# Generate random numbers from a Normal(5, 2)\n",
    "normals = np.random.normal(loc=5, scale=2, size=5000)\n",
    "\n",
    "# Print normals\n",
    "print(normals)\n",
    "\n",
    "# Generate random numbers from a Uniform(-3, 3)\n",
    "uniforms = np.random.uniform(low=-3, high=3, size=5000)\n",
    "\n",
    "# Plot a histogram of uniform values, binwidth 0.25\n",
    "plt.hist(uniforms, bins=np.arange(-3, 3.25, 0.25))\n",
    "plt.show()\n",
    "\n",
    "# Generate random numbers from a Normal(5, 2)\n",
    "normals = np.random.normal(loc=5, scale=2, size=5000)\n",
    "\n",
    "# Plot a histogram of normal values, binwidth 0.5\n",
    "plt.hist(normals, bins=np.arange(-2, 13.5, 0.5))\n",
    "plt.show()"
   ]
  },
  {
   "cell_type": "markdown",
   "metadata": {},
   "source": [
    "<b>3.2 Understanding random seeds</b>\n",
    "\n",
    "While random numbers are important for many analyses, they create a problem: the results you get can vary slightly. This can cause awkward conversations with your boss when your script for calculating the sales forecast gives different answers each time.\n",
    "\n",
    "Setting the seed for numpy's random number generator helps avoid such problems by making the random number generation reproducible.\n",
    "\n",
    "Question\n",
    "Which statement about x and y is true?"
   ]
  },
  {
   "cell_type": "code",
   "execution_count": 15,
   "metadata": {},
   "outputs": [
    {
     "name": "stdout",
     "output_type": "stream",
     "text": [
      "[-1.0856306   0.99734545  0.2829785  -1.50629471 -0.57860025]\n",
      "[ 1.65143654 -2.42667924 -0.42891263  1.26593626 -0.8667404 ]\n"
     ]
    }
   ],
   "source": [
    "import numpy as np\n",
    "np.random.seed(123)\n",
    "x = np.random.normal(size=5)\n",
    "y = np.random.normal(size=5)\n",
    "print(x)\n",
    "print(y)"
   ]
  },
  {
   "cell_type": "markdown",
   "metadata": {},
   "source": [
    "Possible Answers\n",
    "\n",
    "- x and y have identical values.\n",
    "\n",
    "- The first value of x is identical to the first value of y, but other values are different.\n",
    "\n",
    "- The values of x are different from those of y. (True)"
   ]
  },
  {
   "cell_type": "code",
   "execution_count": 16,
   "metadata": {},
   "outputs": [
    {
     "name": "stdout",
     "output_type": "stream",
     "text": [
      "[-1.0856306   0.99734545  0.2829785  -1.50629471 -0.57860025]\n",
      "[-1.0856306   0.99734545  0.2829785  -1.50629471 -0.57860025]\n"
     ]
    }
   ],
   "source": [
    "import numpy as np\n",
    "np.random.seed(123)\n",
    "x = np.random.normal(size=5)\n",
    "np.random.seed(123)\n",
    "y = np.random.normal(size=5)\n",
    "print(x)\n",
    "print(y)"
   ]
  },
  {
   "cell_type": "markdown",
   "metadata": {},
   "source": [
    "Question\n",
    "Which statement about x and y is true?\n",
    "\n",
    "Possible Answers\n",
    "\n",
    "- x and y have identical values. (True)\n",
    "\n",
    "- The first value of x is identical to the first value of y, but other values are different.\n",
    "\n",
    "- The values of x are different from those of y. "
   ]
  },
  {
   "cell_type": "code",
   "execution_count": 17,
   "metadata": {},
   "outputs": [],
   "source": [
    "import numpy as np\n",
    "np.random.seed(123)\n",
    "x = np.random.normal(size=5)\n",
    "np.random.seed(456)\n",
    "y = np.random.normal(size=5)"
   ]
  },
  {
   "cell_type": "markdown",
   "metadata": {},
   "source": [
    "Question\n",
    "Which statement about x and y is true?\n",
    "\n",
    "Possible Answers\n",
    "\n",
    "- x and y have identical values. \n",
    "\n",
    "- The first value of x is identical to the first value of y, but other values are different. (True)\n",
    "\n",
    "- The values of x are different from those of y. "
   ]
  }
 ],
 "metadata": {
  "kernelspec": {
   "display_name": "Python 3.10.8 64-bit (microsoft store)",
   "language": "python",
   "name": "python3"
  },
  "language_info": {
   "codemirror_mode": {
    "name": "ipython",
    "version": 3
   },
   "file_extension": ".py",
   "mimetype": "text/x-python",
   "name": "python",
   "nbconvert_exporter": "python",
   "pygments_lexer": "ipython3",
   "version": "3.10.8"
  },
  "orig_nbformat": 4,
  "vscode": {
   "interpreter": {
    "hash": "cd85abab4e42ed52d78993b1b54e037968b74145d44eb01d9e116517c8fc42a2"
   }
  }
 },
 "nbformat": 4,
 "nbformat_minor": 2
}

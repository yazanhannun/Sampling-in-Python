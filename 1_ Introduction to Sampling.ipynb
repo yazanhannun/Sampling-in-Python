{
 "cells": [
  {
   "cell_type": "markdown",
   "metadata": {},
   "source": [
    "# Introduction to Sampling\n",
    "\n",
    "Learn what sampling is and why it is so powerful. You’ll also learn about the problems caused by convenience sampling and the differences between true randomness and pseudo-randomness."
   ]
  },
  {
   "cell_type": "markdown",
   "metadata": {},
   "source": [
    "# 1. Sampling and point estimates"
   ]
  },
  {
   "cell_type": "markdown",
   "metadata": {},
   "source": [
    "1.1 Reasons for sampling\n",
    "\n",
    "Sampling is an important technique in your statistical arsenal. It isn't always appropriate though—you need to know when to use it and when to work with the whole dataset.\n",
    "\n",
    "Which of the following is not a good scenario to use sampling?\n",
    "\n",
    "Possible Answers:\n",
    "- You've been handed one terabyte of data about error logs for your company's device. (True)\n",
    "\n",
    "- You wish to learn about the travel habits of all Pakistani adult citizens.\n",
    "\n",
    "- You've finished collecting data on a small study of the wing measurements for 10 butterflies.\n",
    "\n",
    "- You are working to predict customer turnover on a big data project for your marketing firm."
   ]
  },
  {
   "cell_type": "markdown",
   "metadata": {},
   "source": [
    "Ten butterflies is a small dataset, so sampling isn't useful here."
   ]
  }
 ],
 "metadata": {
  "kernelspec": {
   "display_name": "Python 3.10.8 64-bit (microsoft store)",
   "language": "python",
   "name": "python3"
  },
  "language_info": {
   "name": "python",
   "version": "3.10.8"
  },
  "orig_nbformat": 4,
  "vscode": {
   "interpreter": {
    "hash": "cd85abab4e42ed52d78993b1b54e037968b74145d44eb01d9e116517c8fc42a2"
   }
  }
 },
 "nbformat": 4,
 "nbformat_minor": 2
}

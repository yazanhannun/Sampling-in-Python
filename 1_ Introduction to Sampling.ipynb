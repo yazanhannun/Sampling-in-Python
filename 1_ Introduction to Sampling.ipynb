{
 "cells": [
  {
   "cell_type": "markdown",
   "metadata": {},
   "source": [
    "# Introduction to Sampling\n",
    "\n",
    "Learn what sampling is and why it is so powerful. You’ll also learn about the problems caused by convenience sampling and the differences between true randomness and pseudo-randomness."
   ]
  },
  {
   "cell_type": "markdown",
   "metadata": {},
   "source": [
    "# 1. Sampling and point estimates"
   ]
  },
  {
   "cell_type": "markdown",
   "metadata": {},
   "source": [
    "<b>1.1 Reasons for sampling</b>\n",
    "\n",
    "Sampling is an important technique in your statistical arsenal. It isn't always appropriate though—you need to know when to use it and when to work with the whole dataset.\n",
    "\n",
    "Which of the following is not a good scenario to use sampling?\n",
    "\n",
    "Possible Answers:\n",
    "- You've been handed one terabyte of data about error logs for your company's device. (True)\n",
    "\n",
    "- You wish to learn about the travel habits of all Pakistani adult citizens.\n",
    "\n",
    "- You've finished collecting data on a small study of the wing measurements for 10 butterflies.\n",
    "\n",
    "- You are working to predict customer turnover on a big data project for your marketing firm."
   ]
  },
  {
   "cell_type": "markdown",
   "metadata": {},
   "source": [
    "Ten butterflies is a small dataset, so sampling isn't useful here."
   ]
  },
  {
   "cell_type": "markdown",
   "metadata": {},
   "source": [
    "<b>1.2 Simple sampling with pandas</b>\n",
    "\n",
    "Throughout this chapter, you'll be exploring song data from Spotify. Each row of this population dataset represents a song, and there are over 40,000 rows. Columns include the song name, the artists who performed it, the release year, and attributes of the song like its duration, tempo, and danceability. You'll start by looking at the durations.\n",
    "\n",
    "Your first task is to sample the Spotify dataset and compare the mean duration of the population with the sample."
   ]
  },
  {
   "cell_type": "code",
   "execution_count": 69,
   "metadata": {},
   "outputs": [],
   "source": [
    "import pandas as pd\n",
    "import numpy as np\n",
    "import matplotlib.pyplot as plt\n",
    "spotify_population = pd.read_feather(\"C:\\\\Users\\\\yazan\\\\Desktop\\\\Data_Analytics\\\\8-Sampling in Python\\Datasets\\\\spotify_2000_2020.feather\")"
   ]
  },
  {
   "cell_type": "code",
   "execution_count": 70,
   "metadata": {},
   "outputs": [
    {
     "name": "stdout",
     "output_type": "stream",
     "text": [
      "       acousticness                                   artists  danceability  \\\n",
      "34766      0.002000                               ['STARSET']         0.328   \n",
      "18346      0.170000                          ['Night Lovell']         0.801   \n",
      "25989      0.000973                             ['The Heavy']         0.647   \n",
      "15794      0.939000                      ['Imperial Mammoth']         0.685   \n",
      "28472      0.013700                          ['Colony House']         0.479   \n",
      "...             ...                                       ...           ...   \n",
      "23162      0.000517                      ['Bowling For Soup']         0.582   \n",
      "38651      0.726000  ['Kendrick Lamar', 'BJ The Chicago Kid']         0.383   \n",
      "6794       0.184000                          ['Shania Twain']         0.739   \n",
      "11163      0.456000                            ['Crazy Frog']         0.641   \n",
      "41610      0.474000                            ['Mac Miller']         0.677   \n",
      "\n",
      "       duration_ms  duration_minutes  energy  explicit  \\\n",
      "34766     262689.0          4.378150   0.635       0.0   \n",
      "18346     227115.0          3.785250   0.679       1.0   \n",
      "25989     217493.0          3.624883   0.710       0.0   \n",
      "15794     143600.0          2.393333   0.183       0.0   \n",
      "28472     177773.0          2.962883   0.759       0.0   \n",
      "...            ...               ...     ...       ...   \n",
      "23162     197800.0          3.296667   0.829       0.0   \n",
      "38651     304668.0          5.077800   0.731       1.0   \n",
      "6794      228160.0          3.802667   0.886       0.0   \n",
      "11163     177200.0          2.953333   0.943       0.0   \n",
      "41610     298440.0          4.974000   0.330       0.0   \n",
      "\n",
      "                           id  instrumentalness   key  liveness  loudness  \\\n",
      "34766  4j41Du0uMXJrfEY7Xe9CDO          0.000018   4.0    0.1080    -6.772   \n",
      "18346  6lt8N5nSY1EaiyeDRAIwcW          0.000009   4.0    0.1880    -8.747   \n",
      "25989  7D180Q77XAEP7atBLmMTgK          0.703000   0.0    0.0777    -4.692   \n",
      "15794  1FxrfPSbuTG1Y3FcQOLtck          0.000000   0.0    0.0978   -13.823   \n",
      "28472  612JlaWJl5l6VIrcBck5QB          0.000000   8.0    0.0930    -6.820   \n",
      "...                       ...               ...   ...       ...       ...   \n",
      "23162  0KqyBk4aVT88TEqBIC8mAP          0.000000   2.0    0.2660    -5.688   \n",
      "38651  2QVYTN3Z0IGLVF7YEQN5EJ          0.000000   1.0    0.5040    -5.996   \n",
      "6794   7DJRp4EqNrWz0zK509ILIQ          0.000000   5.0    0.1590    -4.313   \n",
      "11163  0h1fMeDZFMwGiWiHkIbBcp          0.000820  10.0    0.2270    -2.712   \n",
      "41610  2Yv2mHzr5AQavVdwQjEokV          0.000871   2.0    0.0640   -11.198   \n",
      "\n",
      "       mode                                               name  popularity  \\\n",
      "34766   1.0                                          Carnivore        61.0   \n",
      "18346   0.0                                         Contraband        58.0   \n",
      "25989   1.0                                How You Like Me Now        58.0   \n",
      "15794   1.0                                   Requiem On Water        42.0   \n",
      "28472   1.0                                        Silhouettes        60.0   \n",
      "...     ...                                                ...         ...   \n",
      "23162   1.0                         Girl All the Bad Guys Want        62.0   \n",
      "38651   1.0      Kush & Corinthians (feat. BJ The Chicago Kid)        51.0   \n",
      "6794    1.0     (If You're Not In It For Love) I'm Outta Here!        46.0   \n",
      "11163   1.0  We Are The Champions (Ding A Dang Dong) - Radi...        43.0   \n",
      "41610   1.0                                      Hand Me Downs        68.0   \n",
      "\n",
      "      release_date  speechiness    tempo  valence    year  \n",
      "34766         2014       0.0786   74.965   0.0484  2014.0  \n",
      "18346   2016-06-14       0.0527  130.015   0.4830  2016.0  \n",
      "25989   2009-10-05       0.0290  110.059   0.2680  2009.0  \n",
      "15794   2011-11-04       0.0342  110.000   0.2100  2011.0  \n",
      "28472   2014-07-22       0.0385  164.997   0.5740  2014.0  \n",
      "...            ...          ...      ...      ...     ...  \n",
      "23162         2002       0.0465  130.969   0.8670  2002.0  \n",
      "38651   2011-07-02       0.2010  176.781   0.3060  2011.0  \n",
      "6794    2004-01-01       0.0385  119.997   0.8730  2004.0  \n",
      "11163   2006-01-01       0.0802  129.990   0.3330  2006.0  \n",
      "41610   2020-01-17       0.1490   68.985   0.3360  2020.0  \n",
      "\n",
      "[1000 rows x 20 columns]\n",
      "3.8521519140900073\n",
      "3.9444853833333333\n"
     ]
    }
   ],
   "source": [
    "# Sample 1000 rows from spotify_population\n",
    "spotify_sample = spotify_population.sample(n=1000)\n",
    "\n",
    "# Print the sample\n",
    "print(spotify_sample)\n",
    "\n",
    "# Calculate the mean duration in mins from spotify_population\n",
    "mean_dur_pop = spotify_population['duration_minutes'].mean()\n",
    "\n",
    "# Calculate the mean duration in mins from spotify_sample\n",
    "mean_dur_samp = spotify_sample['duration_minutes'].mean()\n",
    "\n",
    "# Print the means\n",
    "print(mean_dur_pop)\n",
    "print(mean_dur_samp)"
   ]
  },
  {
   "cell_type": "markdown",
   "metadata": {},
   "source": [
    "<b>1.3 Simple sampling and calculating with NumPy</b>\n",
    "\n",
    "You can also use numpy to calculate parameters or statistics from a list or pandas Series.\n",
    "\n",
    "You'll be turning it up to eleven and looking at the loudness property of each song."
   ]
  },
  {
   "cell_type": "code",
   "execution_count": 71,
   "metadata": {},
   "outputs": [
    {
     "name": "stdout",
     "output_type": "stream",
     "text": [
      "-7.366856851353947\n",
      "-7.595480000000001\n"
     ]
    }
   ],
   "source": [
    "# Create a pandas Series from the loudness column of spotify_population\n",
    "loudness_pop = spotify_population['loudness']\n",
    "\n",
    "# Sample 100 values of loudness_pop\n",
    "loudness_samp = loudness_pop.sample(n=100)\n",
    "\n",
    "# Calculate the mean of loudness_pop\n",
    "mean_loudness_pop = np.mean(loudness_pop)\n",
    "\n",
    "# Calculate the mean of loudness_samp\n",
    "mean_loudness_samp = np.mean(loudness_samp)\n",
    "\n",
    "# Print the means\n",
    "print(mean_loudness_pop)\n",
    "print(mean_loudness_samp)"
   ]
  },
  {
   "cell_type": "markdown",
   "metadata": {},
   "source": [
    "# 2. Convenience sampling"
   ]
  },
  {
   "cell_type": "markdown",
   "metadata": {},
   "source": [
    "<b>2.1 Are findings from the sample generalizable?</b>\n",
    "\n",
    "Sampling—collecting data using the easiest method like(finding the average population age in France by asking a sample of people visiting Disneyland) can result in samples that aren't representative of the population. Equivalently, this means findings from the sample are not generalizable to the population. Visualizing the distributions of the population and the sample can help determine whether or not the sample is representative of the population.\n",
    "\n",
    "The Spotify dataset contains an acousticness column, which is a confidence measure from zero to one of whether the track was made with instruments that aren't plugged in. You'll compare the acousticness distribution of the total population of songs with a sample of those songs."
   ]
  },
  {
   "cell_type": "markdown",
   "metadata": {},
   "source": [
    "Plot a histogram of the acousticness from spotify_population with bins of width 0.01 from 0 to 1 using pandas .hist()."
   ]
  },
  {
   "cell_type": "code",
   "execution_count": 72,
   "metadata": {},
   "outputs": [
    {
     "data": {
      "image/png": "[encoded data removed]",
      "text/plain": [
       "<Figure size 640x480 with 1 Axes>"
      ]
     },
     "metadata": {},
     "output_type": "display_data"
    }
   ],
   "source": [
    "# Visualize the distribution of acousticness with a histogram\n",
    "spotify_population['acousticness'].hist(bins=np.arange(0, 1.01, 0.01))\n",
    "plt.show()"
   ]
  },
  {
   "cell_type": "markdown",
   "metadata": {},
   "source": [
    "Update the histogram code to use the spotify_mysterious_sample dataset."
   ]
  },
  {
   "cell_type": "code",
   "execution_count": 73,
   "metadata": {},
   "outputs": [
    {
     "data": {
      "image/png": "[encoded data removed]",
      "text/plain": [
       "<Figure size 640x480 with 1 Axes>"
      ]
     },
     "metadata": {},
     "output_type": "display_data"
    }
   ],
   "source": [
    "spotify_mysterious_sample = spotify_population[spotify_population['acousticness']>=0.951].sample(n=1000)\n",
    "\n",
    "# Update the histogram to use spotify_mysterious_sample\n",
    "spotify_mysterious_sample['acousticness'].hist(bins=np.arange(0, 1.01, 0.01))\n",
    "plt.show()"
   ]
  },
  {
   "cell_type": "markdown",
   "metadata": {},
   "source": [
    "<b>Question</b>\n",
    "\n",
    "Compare the two histograms you drew. Are the acousticness values in the sample generalizable to the general population?\n",
    "\n",
    "Possible Answers\n",
    "\n",
    "- Yes. Any sample should lead to a generalizable result about the population.\n",
    "\n",
    "- Yes. The sample selected is likely a random sample of all songs in our population.\n",
    "\n",
    "- No. Samples can never lead to generalizable results about the population.\n",
    "\n",
    "- No. The acousticness samples are consistently higher than those in the general population. (True)\n",
    "\n",
    "- No. The acousticness samples are consistently lower than those in the general population.\n",
    "\n",
    "The acousticness values in the sample are all greater than 0.95, whereas they range from 0 to 1 in the whole population."
   ]
  },
  {
   "cell_type": "markdown",
   "metadata": {},
   "source": [
    "<b>2.2 Are these findings generalizable?</b>\n",
    "\n",
    "Let's look at another sample to see if it is representative of the population. This time, you'll look at the duration_minutes column of the Spotify dataset, which contains the length of the song in minutes."
   ]
  },
  {
   "cell_type": "markdown",
   "metadata": {},
   "source": [
    "Plot a histogram of duration_minutes from spotify_population with bins of width 0.5 from 0 to 15 using pandas .hist()."
   ]
  },
  {
   "cell_type": "code",
   "execution_count": 80,
   "metadata": {},
   "outputs": [
    {
     "data": {
      "image/png": "[encoded data removed]",
      "text/plain": [
       "<Figure size 640x480 with 1 Axes>"
      ]
     },
     "metadata": {},
     "output_type": "display_data"
    }
   ],
   "source": [
    "# Visualize the distribution of duration_minutes as a histogram\n",
    "spotify_population['duration_minutes'].hist(bins=np.arange(0, 15, 0.5), color = 'green')\n",
    "plt.show()"
   ]
  }
 ],
 "metadata": {
  "kernelspec": {
   "display_name": "Python 3.10.8 64-bit (microsoft store)",
   "language": "python",
   "name": "python3"
  },
  "language_info": {
   "codemirror_mode": {
    "name": "ipython",
    "version": 3
   },
   "file_extension": ".py",
   "mimetype": "text/x-python",
   "name": "python",
   "nbconvert_exporter": "python",
   "pygments_lexer": "ipython3",
   "version": "3.10.8"
  },
  "orig_nbformat": 4,
  "vscode": {
   "interpreter": {
    "hash": "cd85abab4e42ed52d78993b1b54e037968b74145d44eb01d9e116517c8fc42a2"
   }
  }
 },
 "nbformat": 4,
 "nbformat_minor": 2
}

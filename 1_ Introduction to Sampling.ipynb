{
 "cells": [
  {
   "cell_type": "markdown",
   "metadata": {},
   "source": [
    "# Introduction to Sampling\n",
    "\n",
    "Learn what sampling is and why it is so powerful. You’ll also learn about the problems caused by convenience sampling and the differences between true randomness and pseudo-randomness."
   ]
  },
  {
   "cell_type": "markdown",
   "metadata": {},
   "source": [
    "# 1. Sampling and point estimates"
   ]
  },
  {
   "cell_type": "markdown",
   "metadata": {},
   "source": [
    "<b>1.1 Reasons for sampling</b>\n",
    "\n",
    "Sampling is an important technique in your statistical arsenal. It isn't always appropriate though—you need to know when to use it and when to work with the whole dataset.\n",
    "\n",
    "Which of the following is not a good scenario to use sampling?\n",
    "\n",
    "Possible Answers:\n",
    "- You've been handed one terabyte of data about error logs for your company's device. (True)\n",
    "\n",
    "- You wish to learn about the travel habits of all Pakistani adult citizens.\n",
    "\n",
    "- You've finished collecting data on a small study of the wing measurements for 10 butterflies.\n",
    "\n",
    "- You are working to predict customer turnover on a big data project for your marketing firm."
   ]
  },
  {
   "cell_type": "markdown",
   "metadata": {},
   "source": [
    "Ten butterflies is a small dataset, so sampling isn't useful here."
   ]
  },
  {
   "cell_type": "markdown",
   "metadata": {},
   "source": [
    "<b>1.2 Simple sampling with pandas</b>\n",
    "\n",
    "Throughout this chapter, you'll be exploring song data from Spotify. Each row of this population dataset represents a song, and there are over 40,000 rows. Columns include the song name, the artists who performed it, the release year, and attributes of the song like its duration, tempo, and danceability. You'll start by looking at the durations.\n",
    "\n",
    "Your first task is to sample the Spotify dataset and compare the mean duration of the population with the sample."
   ]
  },
  {
   "cell_type": "code",
   "execution_count": 17,
   "metadata": {},
   "outputs": [],
   "source": [
    "import pandas as pd\n",
    "import numpy as np\n",
    "import matplotlib.pyplot as plt\n",
    "spotify_population = pd.read_feather(\"C:\\\\Users\\\\yazan\\\\Desktop\\\\Data_Analytics\\\\8-Sampling in Python\\Datasets\\\\spotify_2000_2020.feather\")"
   ]
  },
  {
   "cell_type": "code",
   "execution_count": 18,
   "metadata": {},
   "outputs": [
    {
     "name": "stdout",
     "output_type": "stream",
     "text": [
      "       acousticness                                 artists  danceability  \\\n",
      "15769       0.00441                          ['Washed Out']         0.207   \n",
      "1908        0.98700                        ['Leny Bhoelai']         0.150   \n",
      "13364       0.00210                    ['Slim', 'Yung Joc']         0.784   \n",
      "34659       0.02710                        ['Fall Out Boy']         0.558   \n",
      "39442       0.73400  ['Jovanny Cadena Y Su Estilo Privado']         0.554   \n",
      "...             ...                                     ...           ...   \n",
      "8065        0.55800                          ['Seth Ennis']         0.603   \n",
      "23289       0.24400                             ['50 Cent']         0.892   \n",
      "7468        0.22700       ['Dan Zanes', 'Friends', 'Shine']         0.683   \n",
      "5190        0.46500                      ['David Frizzell']         0.606   \n",
      "41325       0.71300                              ['H.E.R.']         0.622   \n",
      "\n",
      "       duration_ms  duration_minutes  energy  explicit  \\\n",
      "15769     287667.0          4.794450  0.8780       0.0   \n",
      "1908      190000.0          3.166667  0.0289       0.0   \n",
      "13364     212453.0          3.540883  0.5590       0.0   \n",
      "34659     186827.0          3.113783  0.9240       0.0   \n",
      "39442     224442.0          3.740700  0.5670       0.0   \n",
      "...            ...               ...     ...       ...   \n",
      "8065      235467.0          3.924450  0.5780       0.0   \n",
      "23289     196640.0          3.277333  0.6310       1.0   \n",
      "7468      159360.0          2.656000  0.6240       0.0   \n",
      "5190      239386.0          3.989767  0.4560       0.0   \n",
      "41325     304653.0          5.077550  0.2710       0.0   \n",
      "\n",
      "                           id  instrumentalness   key  liveness  loudness  \\\n",
      "15769  1y9iSAufFmLrfXuYMTnV4T          0.421000   4.0    0.3410    -7.212   \n",
      "1908   7DtluO7XUoL5wf2imEgkXl          0.941000   2.0    0.1190   -30.292   \n",
      "13364  2wmBKUx62Px6my6U1mYw18          0.000000   2.0    0.4120    -4.862   \n",
      "34659  2E43WFS4rRc09za2r2GmZl          0.000003   9.0    0.5370    -4.341   \n",
      "39442  1S7FT0rhQ6AaTg0yBbFxYS          0.000000   4.0    0.1140    -4.642   \n",
      "...                       ...               ...   ...       ...       ...   \n",
      "8065   2vjNx7jYF9q2w3sKiJ37lg          0.000000  11.0    0.1310    -6.697   \n",
      "23289  7JeKXMQKm6GoLGTkNy2jZ0          0.000000  11.0    0.0235    -2.522   \n",
      "7468   2FbHTDrlR17qlPnPtcGgMg          0.000108   9.0    0.1380    -8.688   \n",
      "5190   337nQ3zcZ5Ka2JmMMlR7bU          0.000000   7.0    0.3090   -12.449   \n",
      "41325  3C23UChONVCL0A3U9uWO5u          0.000263   4.0    0.0983   -12.311   \n",
      "\n",
      "       mode                                               name  popularity  \\\n",
      "15769   1.0                                     Eyes Be Closed        43.0   \n",
      "1908    1.0                                         This night        66.0   \n",
      "13364   1.0                            So Fly (feat. Yung Joc)        40.0   \n",
      "34659   0.0  My Songs Know What You Did In The Dark (Light ...        69.0   \n",
      "39442   0.0                           Quiero Llorar y No Puedo        68.0   \n",
      "...     ...                                                ...         ...   \n",
      "8065    1.0                                      Think & Drive        58.0   \n",
      "23289   0.0                                         If I Can't        58.0   \n",
      "7468    1.0                                      Wake Up Baby!        49.0   \n",
      "5190    1.0         I'm Gonna Hire A Wino To Decorate Our Home        45.0   \n",
      "41325   0.0                                             Jungle        61.0   \n",
      "\n",
      "      release_date  speechiness    tempo  valence    year  \n",
      "15769   2011-07-12       0.0449   89.969   0.1380  2011.0  \n",
      "1908    2019-11-29       0.0482  137.027   0.0922  2019.0  \n",
      "13364   2008-11-18       0.0846   90.994   0.6980  2008.0  \n",
      "34659   2013-01-01       0.0640  151.990   0.5670  2013.0  \n",
      "39442   2019-03-29       0.0325  206.962   0.7450  2019.0  \n",
      "...            ...          ...      ...      ...     ...  \n",
      "8065    2017-08-11       0.0306  137.995   0.2990  2017.0  \n",
      "23289   2003-02-06       0.3020   93.975   0.8380  2003.0  \n",
      "7468    2011-09-27       0.1020   82.431   0.8630  2011.0  \n",
      "5190    2009-01-01       0.1990  162.438   0.8210  2009.0  \n",
      "41325   2017-10-20       0.0824   98.925   0.3750  2017.0  \n",
      "\n",
      "[1000 rows x 20 columns]\n",
      "3.8521519140900073\n",
      "3.843575883333333\n"
     ]
    }
   ],
   "source": [
    "# Sample 1000 rows from spotify_population\n",
    "spotify_sample = spotify_population.sample(n=1000)\n",
    "\n",
    "# Print the sample\n",
    "print(spotify_sample)\n",
    "\n",
    "# Calculate the mean duration in mins from spotify_population\n",
    "mean_dur_pop = spotify_population['duration_minutes'].mean()\n",
    "\n",
    "# Calculate the mean duration in mins from spotify_sample\n",
    "mean_dur_samp = spotify_sample['duration_minutes'].mean()\n",
    "\n",
    "# Print the means\n",
    "print(mean_dur_pop)\n",
    "print(mean_dur_samp)"
   ]
  },
  {
   "cell_type": "markdown",
   "metadata": {},
   "source": [
    "<b>1.3 Simple sampling and calculating with NumPy</b>\n",
    "\n",
    "You can also use numpy to calculate parameters or statistics from a list or pandas Series.\n",
    "\n",
    "You'll be turning it up to eleven and looking at the loudness property of each song."
   ]
  },
  {
   "cell_type": "code",
   "execution_count": 19,
   "metadata": {},
   "outputs": [
    {
     "name": "stdout",
     "output_type": "stream",
     "text": [
      "-7.366856851353947\n",
      "-7.991410000000001\n"
     ]
    }
   ],
   "source": [
    "# Create a pandas Series from the loudness column of spotify_population\n",
    "loudness_pop = spotify_population['loudness']\n",
    "\n",
    "# Sample 100 values of loudness_pop\n",
    "loudness_samp = loudness_pop.sample(n=100)\n",
    "\n",
    "# Calculate the mean of loudness_pop\n",
    "mean_loudness_pop = np.mean(loudness_pop)\n",
    "\n",
    "# Calculate the mean of loudness_samp\n",
    "mean_loudness_samp = np.mean(loudness_samp)\n",
    "\n",
    "# Print the means\n",
    "print(mean_loudness_pop)\n",
    "print(mean_loudness_samp)"
   ]
  },
  {
   "cell_type": "markdown",
   "metadata": {},
   "source": [
    "# 2. Convenience sampling"
   ]
  },
  {
   "cell_type": "markdown",
   "metadata": {},
   "source": [
    "2.1 Are findings from the sample generalizable?\n",
    "\n",
    "Sampling—collecting data using the easiest method like(finding the average population age in France by asking a sample of people visiting Disneyland) can result in samples that aren't representative of the population. Equivalently, this means findings from the sample are not generalizable to the population. Visualizing the distributions of the population and the sample can help determine whether or not the sample is representative of the population.\n",
    "\n",
    "The Spotify dataset contains an acousticness column, which is a confidence measure from zero to one of whether the track was made with instruments that aren't plugged in. You'll compare the acousticness distribution of the total population of songs with a sample of those songs."
   ]
  },
  {
   "cell_type": "markdown",
   "metadata": {},
   "source": [
    "Plot a histogram of the acousticness from spotify_population with bins of width 0.01 from 0 to 1 using pandas .hist()."
   ]
  },
  {
   "cell_type": "code",
   "execution_count": 20,
   "metadata": {},
   "outputs": [
    {
     "data": {
      "image/png": "[encoded data removed]",
      "text/plain": [
       "<Figure size 640x480 with 1 Axes>"
      ]
     },
     "metadata": {},
     "output_type": "display_data"
    }
   ],
   "source": [
    "# Visualize the distribution of acousticness with a histogram\n",
    "spotify_population['acousticness'].hist(bins=np.arange(0, 1.01, 0.01))\n",
    "plt.show()"
   ]
  },
  {
   "cell_type": "markdown",
   "metadata": {},
   "source": [
    "Update the histogram code to use the spotify_mysterious_sample dataset."
   ]
  },
  {
   "cell_type": "code",
   "execution_count": 68,
   "metadata": {},
   "outputs": [
    {
     "data": {
      "image/png": "[encoded data removed]",
      "text/plain": [
       "<Figure size 640x480 with 1 Axes>"
      ]
     },
     "metadata": {},
     "output_type": "display_data"
    }
   ],
   "source": [
    "spotify_mysterious_sample = spotify_population[spotify_population['acousticness']>=0.951].sample(n=1000)\n",
    "\n",
    "# Update the histogram to use spotify_mysterious_sample\n",
    "spotify_mysterious_sample['acousticness'].hist(bins=np.arange(0, 1.01, 0.01))\n",
    "plt.show()"
   ]
  },
  {
   "cell_type": "markdown",
   "metadata": {},
   "source": [
    "Question\n",
    "Compare the two histograms you drew. Are the acousticness values in the sample generalizable to the general population?\n",
    "\n",
    "Possible Answers\n",
    "\n",
    "- Yes. Any sample should lead to a generalizable result about the population.\n",
    "\n",
    "- Yes. The sample selected is likely a random sample of all songs in our population.\n",
    "\n",
    "- No. Samples can never lead to generalizable results about the population.\n",
    "\n",
    "- No. The acousticness samples are consistently higher than those in the general population. (True)\n",
    "\n",
    "- No. The acousticness samples are consistently lower than those in the general population.\n",
    "\n",
    "The acousticness values in the sample are all greater than 0.95, whereas they range from 0 to 1 in the whole population."
   ]
  }
 ],
 "metadata": {
  "kernelspec": {
   "display_name": "Python 3.10.8 64-bit (microsoft store)",
   "language": "python",
   "name": "python3"
  },
  "language_info": {
   "codemirror_mode": {
    "name": "ipython",
    "version": 3
   },
   "file_extension": ".py",
   "mimetype": "text/x-python",
   "name": "python",
   "nbconvert_exporter": "python",
   "pygments_lexer": "ipython3",
   "version": "3.10.8"
  },
  "orig_nbformat": 4,
  "vscode": {
   "interpreter": {
    "hash": "cd85abab4e42ed52d78993b1b54e037968b74145d44eb01d9e116517c8fc42a2"
   }
  }
 },
 "nbformat": 4,
 "nbformat_minor": 2
}

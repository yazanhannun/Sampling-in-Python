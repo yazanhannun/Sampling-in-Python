{
 "cells": [
  {
   "cell_type": "markdown",
   "metadata": {},
   "source": [
    "# Sampling Methods\n",
    "\n",
    "It’s time to get hands-on and perform the four random sampling methods in Python: simple, systematic, stratified, and cluster."
   ]
  },
  {
   "cell_type": "code",
   "execution_count": 314,
   "metadata": {},
   "outputs": [
    {
     "name": "stdout",
     "output_type": "stream",
     "text": [
      "   Age  Attrition     BusinessTravel  DailyRate            Department  \\\n",
      "0   21        0.0      Travel_Rarely        391  Research_Development   \n",
      "1   19        1.0      Travel_Rarely        528                 Sales   \n",
      "2   18        1.0      Travel_Rarely        230  Research_Development   \n",
      "3   18        0.0      Travel_Rarely        812                 Sales   \n",
      "4   18        1.0  Travel_Frequently       1306                 Sales   \n",
      "\n",
      "   DistanceFromHome      Education EducationField EnvironmentSatisfaction  \\\n",
      "0                15        College  Life_Sciences                    High   \n",
      "1                22  Below_College      Marketing               Very_High   \n",
      "2                 3       Bachelor  Life_Sciences                    High   \n",
      "3                10       Bachelor        Medical               Very_High   \n",
      "4                 5       Bachelor      Marketing                  Medium   \n",
      "\n",
      "   Gender  ...  PerformanceRating RelationshipSatisfaction  StockOptionLevel  \\\n",
      "0    Male  ...          Excellent                Very_High                 0   \n",
      "1    Male  ...          Excellent                Very_High                 0   \n",
      "2    Male  ...          Excellent                     High                 0   \n",
      "3  Female  ...          Excellent                      Low                 0   \n",
      "4    Male  ...          Excellent                Very_High                 0   \n",
      "\n",
      "  TotalWorkingYears TrainingTimesLastYear WorkLifeBalance  YearsAtCompany  \\\n",
      "0                 0                     6          Better               0   \n",
      "1                 0                     2            Good               0   \n",
      "2                 0                     2          Better               0   \n",
      "3                 0                     2          Better               0   \n",
      "4                 0                     3          Better               0   \n",
      "\n",
      "   YearsInCurrentRole  YearsSinceLastPromotion YearsWithCurrManager  \n",
      "0                   0                        0                    0  \n",
      "1                   0                        0                    0  \n",
      "2                   0                        0                    0  \n",
      "3                   0                        0                    0  \n",
      "4                   0                        0                    0  \n",
      "\n",
      "[5 rows x 31 columns]\n"
     ]
    }
   ],
   "source": [
    "import pandas as pd\n",
    "attrition_pop = pd.read_feather('C:\\\\Users\\\\yazan\\\\Desktop\\\\Data_Analytics\\\\8-Sampling in Python\\Datasets\\\\attrition.feather')\n",
    "print(attrition_pop.head())"
   ]
  },
  {
   "cell_type": "markdown",
   "metadata": {},
   "source": [
    "# 1. Simple random and systematic sampling"
   ]
  },
  {
   "cell_type": "markdown",
   "metadata": {},
   "source": [
    "<b>1.1 Simple random sampling</b>\n",
    "\n",
    "The simplest method of sampling a population is the one you've seen already. It is known as simple random sampling (sometimes abbreviated to \"SRS\"), and involves picking rows at random, one at a time, where each row has the same chance of being picked as any other.\n",
    "\n",
    "In this chapter, you'll apply sampling methods to a synthetic (fictional) employee attrition dataset from IBM, where \"attrition\" in this context means leaving the company."
   ]
  },
  {
   "cell_type": "code",
   "execution_count": 315,
   "metadata": {},
   "outputs": [
    {
     "name": "stdout",
     "output_type": "stream",
     "text": [
      "      Age  Attrition     BusinessTravel  DailyRate            Department  \\\n",
      "1134   35        0.0      Travel_Rarely        583  Research_Development   \n",
      "1150   52        0.0         Non-Travel        585                 Sales   \n",
      "531    33        0.0      Travel_Rarely        931  Research_Development   \n",
      "395    31        0.0      Travel_Rarely       1332  Research_Development   \n",
      "392    29        0.0      Travel_Rarely        942  Research_Development   \n",
      "...   ...        ...                ...        ...                   ...   \n",
      "361    27        0.0  Travel_Frequently       1410                 Sales   \n",
      "1180   36        0.0      Travel_Rarely        530                 Sales   \n",
      "230    26        0.0      Travel_Rarely       1443                 Sales   \n",
      "211    29        0.0  Travel_Frequently        410  Research_Development   \n",
      "890    30        0.0  Travel_Frequently       1312  Research_Development   \n",
      "\n",
      "      DistanceFromHome      Education    EducationField  \\\n",
      "1134                25         Master           Medical   \n",
      "1150                29         Master     Life_Sciences   \n",
      "531                 14       Bachelor           Medical   \n",
      "395                 11        College           Medical   \n",
      "392                 15  Below_College     Life_Sciences   \n",
      "...                ...            ...               ...   \n",
      "361                  3  Below_College           Medical   \n",
      "1180                 2         Master     Life_Sciences   \n",
      "230                 23       Bachelor         Marketing   \n",
      "211                  2  Below_College     Life_Sciences   \n",
      "890                  2         Master  Technical_Degree   \n",
      "\n",
      "     EnvironmentSatisfaction  Gender  ...  PerformanceRating  \\\n",
      "1134                    High  Female  ...          Excellent   \n",
      "1150                     Low    Male  ...          Excellent   \n",
      "531                Very_High  Female  ...          Excellent   \n",
      "395                     High    Male  ...          Excellent   \n",
      "392                   Medium  Female  ...          Excellent   \n",
      "...                      ...     ...  ...                ...   \n",
      "361                Very_High  Female  ...        Outstanding   \n",
      "1180                    High  Female  ...          Excellent   \n",
      "230                     High  Female  ...          Excellent   \n",
      "211                Very_High  Female  ...          Excellent   \n",
      "890                Very_High  Female  ...          Excellent   \n",
      "\n",
      "     RelationshipSatisfaction  StockOptionLevel TotalWorkingYears  \\\n",
      "1134                     High                 1                16   \n",
      "1150                   Medium                 2                16   \n",
      "531                 Very_High                 1                 8   \n",
      "395                 Very_High                 0                 6   \n",
      "392                       Low                 1                 6   \n",
      "...                       ...               ...               ...   \n",
      "361                    Medium                 2                 6   \n",
      "1180                     High                 0                17   \n",
      "230                      High                 1                 5   \n",
      "211                      High                 3                 4   \n",
      "890                 Very_High                 0                10   \n",
      "\n",
      "     TrainingTimesLastYear WorkLifeBalance  YearsAtCompany  \\\n",
      "1134                     3            Good              16   \n",
      "1150                     3            Good               9   \n",
      "531                      5          Better               8   \n",
      "395                      2            Good               6   \n",
      "392                      2            Good               5   \n",
      "...                    ...             ...             ...   \n",
      "361                      3          Better               6   \n",
      "1180                     2            Good              13   \n",
      "230                      2            Good               2   \n",
      "211                      3          Better               3   \n",
      "890                      2          Better               9   \n",
      "\n",
      "      YearsInCurrentRole  YearsSinceLastPromotion YearsWithCurrManager  \n",
      "1134                  10                       10                    1  \n",
      "1150                   8                        0                    0  \n",
      "531                    7                        1                    6  \n",
      "395                    5                        0                    1  \n",
      "392                    4                        1                    3  \n",
      "...                  ...                      ...                  ...  \n",
      "361                    5                        0                    4  \n",
      "1180                   7                        6                    7  \n",
      "230                    2                        0                    0  \n",
      "211                    2                        0                    2  \n",
      "890                    7                        0                    7  \n",
      "\n",
      "[70 rows x 31 columns]\n"
     ]
    }
   ],
   "source": [
    "# Sample 70 rows using simple random sampling and set the seed\n",
    "attrition_samp = attrition_pop.sample(n=70, random_state=18900217)\n",
    "\n",
    "# Print the sample\n",
    "print(attrition_samp)"
   ]
  },
  {
   "cell_type": "markdown",
   "metadata": {},
   "source": [
    "Notice how the indexes in the sample aren't always in increasing order. They are just random."
   ]
  },
  {
   "cell_type": "markdown",
   "metadata": {},
   "source": [
    "<b>1.2 Systematic sampling</b>\n",
    "\n",
    "One sampling method that avoids randomness is called systematic sampling. Here, you pick rows from the population at regular intervals.\n",
    "\n",
    "For example, if the population dataset had one thousand rows, and you wanted a sample size of five, you could pick rows 0, 200, 400, 600, and 800."
   ]
  },
  {
   "cell_type": "code",
   "execution_count": 316,
   "metadata": {},
   "outputs": [
    {
     "name": "stdout",
     "output_type": "stream",
     "text": [
      "21\n",
      "      Age  Attrition BusinessTravel  DailyRate            Department  \\\n",
      "0      21        0.0  Travel_Rarely        391  Research_Development   \n",
      "21     19        0.0  Travel_Rarely       1181  Research_Development   \n",
      "42     45        0.0  Travel_Rarely        252  Research_Development   \n",
      "63     23        0.0  Travel_Rarely        373  Research_Development   \n",
      "84     30        1.0  Travel_Rarely        945                 Sales   \n",
      "...   ...        ...            ...        ...                   ...   \n",
      "1365   48        0.0  Travel_Rarely        715  Research_Development   \n",
      "1386   48        0.0  Travel_Rarely       1355  Research_Development   \n",
      "1407   50        0.0  Travel_Rarely        989  Research_Development   \n",
      "1428   50        0.0     Non-Travel        881  Research_Development   \n",
      "1449   52        0.0  Travel_Rarely        699  Research_Development   \n",
      "\n",
      "      DistanceFromHome      Education EducationField EnvironmentSatisfaction  \\\n",
      "0                   15        College  Life_Sciences                    High   \n",
      "21                   3  Below_College        Medical                  Medium   \n",
      "42                   2       Bachelor  Life_Sciences                  Medium   \n",
      "63                   1        College  Life_Sciences               Very_High   \n",
      "84                   9       Bachelor        Medical                  Medium   \n",
      "...                ...            ...            ...                     ...   \n",
      "1365                 1       Bachelor  Life_Sciences               Very_High   \n",
      "1386                 4         Master  Life_Sciences                    High   \n",
      "1407                 7        College        Medical                  Medium   \n",
      "1428                 2         Master  Life_Sciences                     Low   \n",
      "1449                 1         Master  Life_Sciences                    High   \n",
      "\n",
      "      Gender  ...  PerformanceRating RelationshipSatisfaction  \\\n",
      "0       Male  ...          Excellent                Very_High   \n",
      "21    Female  ...          Excellent                Very_High   \n",
      "42    Female  ...          Excellent                Very_High   \n",
      "63      Male  ...        Outstanding                Very_High   \n",
      "84      Male  ...          Excellent                     High   \n",
      "...      ...  ...                ...                      ...   \n",
      "1365    Male  ...          Excellent                     High   \n",
      "1386    Male  ...          Excellent                   Medium   \n",
      "1407  Female  ...          Excellent                Very_High   \n",
      "1428    Male  ...          Excellent                Very_High   \n",
      "1449    Male  ...          Excellent                      Low   \n",
      "\n",
      "      StockOptionLevel TotalWorkingYears TrainingTimesLastYear  \\\n",
      "0                    0                 0                     6   \n",
      "21                   0                 1                     3   \n",
      "42                   0                 1                     3   \n",
      "63                   1                 1                     2   \n",
      "84                   0                 1                     3   \n",
      "...                ...               ...                   ...   \n",
      "1365                 0                25                     3   \n",
      "1386                 0                27                     3   \n",
      "1407                 1                29                     2   \n",
      "1428                 1                31                     3   \n",
      "1449                 1                34                     5   \n",
      "\n",
      "     WorkLifeBalance  YearsAtCompany  YearsInCurrentRole  \\\n",
      "0             Better               0                   0   \n",
      "21            Better               1                   0   \n",
      "42            Better               1                   0   \n",
      "63            Better               1                   0   \n",
      "84              Good               1                   0   \n",
      "...              ...             ...                 ...   \n",
      "1365            Best               1                   0   \n",
      "1386          Better              15                  11   \n",
      "1407            Good              27                   3   \n",
      "1428          Better              31                   6   \n",
      "1449          Better              33                  18   \n",
      "\n",
      "      YearsSinceLastPromotion YearsWithCurrManager  \n",
      "0                           0                    0  \n",
      "21                          0                    0  \n",
      "42                          0                    0  \n",
      "63                          0                    1  \n",
      "84                          0                    0  \n",
      "...                       ...                  ...  \n",
      "1365                        0                    0  \n",
      "1386                        4                    8  \n",
      "1407                       13                    8  \n",
      "1428                       14                    7  \n",
      "1449                       11                    9  \n",
      "\n",
      "[70 rows x 31 columns]\n"
     ]
    },
    {
     "data": {
      "image/png": "[encoded data removed]",
      "text/plain": [
       "<Figure size 640x480 with 1 Axes>"
      ]
     },
     "metadata": {},
     "output_type": "display_data"
    }
   ],
   "source": [
    "# Set the sample size to 70\n",
    "sample_size = 70\n",
    "\n",
    "# Calculate the population size from attrition_pop\n",
    "pop_size = len(attrition_pop)\n",
    "\n",
    "# Calculate the interval\n",
    "interval = pop_size // sample_size\n",
    "print(interval)\n",
    "\n",
    "# Systematically sample 70 rows\n",
    "attrition_sys_samp = attrition_pop.iloc[::interval]\n",
    "\n",
    "# Print the sample\n",
    "print(attrition_sys_samp)\n",
    "\n",
    "# Checking if there is a trouble with systematic sampling by plotting the sample and check if there is a pettern in the plot\n",
    "import matplotlib.pyplot as plt\n",
    "plt.style.use(\"default\")\n",
    "attrition_pop_id = attrition_pop.reset_index()\n",
    "attrition_pop_id.plot(x='index', y='Attrition', kind=\"scatter\")\n",
    "plt.show()"
   ]
  },
  {
   "cell_type": "markdown",
   "metadata": {},
   "source": [
    "Systematic sampling avoids randomness by picking rows at regular intervals."
   ]
  },
  {
   "cell_type": "markdown",
   "metadata": {},
   "source": [
    "<b>1.3 Is systematic sampling OK?</b>\n",
    "\n",
    "Systematic sampling has a problem: if the data has been sorted, or there is some sort of pattern or meaning behind the row order, then the resulting sample may not be representative of the whole population. The problem can be solved by shuffling the rows, but then systematic sampling is equivalent to simple random sampling.\n",
    "\n",
    "Here you'll look at how to determine whether or not there is a problem."
   ]
  },
  {
   "cell_type": "code",
   "execution_count": 317,
   "metadata": {},
   "outputs": [
    {
     "data": {
      "image/png": "[encoded data removed]",
      "text/plain": [
       "<Figure size 640x480 with 1 Axes>"
      ]
     },
     "metadata": {},
     "output_type": "display_data"
    }
   ],
   "source": [
    "# Add an index column to attrition_pop\n",
    "attrition_pop_id = attrition_pop.reset_index()\n",
    "\n",
    "# Plot YearsAtCompany vs. index for attrition_pop_id\n",
    "attrition_pop_id.plot(x='index', y='YearsAtCompany', kind='scatter')\n",
    "plt.show()"
   ]
  },
  {
   "cell_type": "code",
   "execution_count": 318,
   "metadata": {},
   "outputs": [
    {
     "data": {
      "image/png": "[encoded data removed]",
      "text/plain": [
       "<Figure size 640x480 with 1 Axes>"
      ]
     },
     "metadata": {},
     "output_type": "display_data"
    }
   ],
   "source": [
    "# Shuffle the rows of attrition_pop\n",
    "attrition_shuffled = attrition_pop.sample(frac=1)\n",
    "\n",
    "# Reset the row indexes and create an index column\n",
    "attrition_shuffled = attrition_shuffled.reset_index(drop=True).reset_index()\n",
    "\n",
    "# Plot YearsAtCompany vs. index for attrition_shuffled\n",
    "attrition_shuffled.plot(x='index', y='YearsAtCompany', kind='scatter')\n",
    "plt.show()"
   ]
  },
  {
   "cell_type": "markdown",
   "metadata": {},
   "source": [
    "<b>Question</b>\n",
    "\n",
    "Does a systematic sample always produce a sample similar to a simple random sample?\n",
    "\n",
    "Possible Answers\n",
    "\n",
    "- Yes. All sampling (random or non-random) methods will lead us to similar results.\n",
    "\n",
    "- Yes. We should always expect a representative sample for both systematic and simple random sampling.\n",
    "\n",
    "- No. This only holds if a seed has been set for both processes.\n",
    "\n",
    "- No. This is not true if the data is sorted in some way. (True)"
   ]
  },
  {
   "cell_type": "markdown",
   "metadata": {},
   "source": [
    "<b>Note</b>: Systematic sampling has problems when the data are sorted or contain a pattern. Shuffling the rows makes it equivalent to simple random sampling."
   ]
  },
  {
   "cell_type": "markdown",
   "metadata": {},
   "source": [
    "# 2. Stratified and weighted random sampling"
   ]
  },
  {
   "cell_type": "markdown",
   "metadata": {},
   "source": [
    "Stratified sampling is useful if you care about subgroups. Otherwise, simple random sampling is more appropriate."
   ]
  },
  {
   "cell_type": "markdown",
   "metadata": {},
   "source": [
    "<b>2.1 Proportional stratified sampling</b>\n",
    "\n",
    "If you are interested in subgroups within the population, then you may need to carefully control the counts of each subgroup within the population. Proportional stratified sampling results in subgroup sizes within the sample that are representative of the subgroup sizes within the population. It is equivalent to performing a simple random sample on each subgroup. "
   ]
  },
  {
   "cell_type": "code",
   "execution_count": 319,
   "metadata": {},
   "outputs": [
    {
     "name": "stdout",
     "output_type": "stream",
     "text": [
      "Bachelor         0.389116\n",
      "Master           0.270748\n",
      "College          0.191837\n",
      "Below_College    0.115646\n",
      "Doctor           0.032653\n",
      "Name: Education, dtype: float64\n"
     ]
    }
   ],
   "source": [
    "'''Get the proportion of employees by Education level from attrition_pop.'''\n",
    "\n",
    "# Proportion of employees by Education level\n",
    "education_counts_pop = attrition_pop['Education'].value_counts(normalize=True)\n",
    "\n",
    "# Print education_counts_pop\n",
    "print(education_counts_pop)"
   ]
  },
  {
   "cell_type": "code",
   "execution_count": 320,
   "metadata": {},
   "outputs": [
    {
     "name": "stdout",
     "output_type": "stream",
     "text": [
      "Bachelor         0.384354\n",
      "Master           0.267007\n",
      "College          0.200680\n",
      "Below_College    0.122449\n",
      "Doctor           0.025510\n",
      "Name: Education, dtype: float64\n"
     ]
    }
   ],
   "source": [
    "# Proportional stratified sampling for 40% of each Education group\n",
    "education_strat_without_grouping = attrition_pop.sample(frac=0.4, random_state=2022)\n",
    "\n",
    "# Print education_counts_strat\n",
    "education_counts_strat_without_grouping= education_strat_without_grouping['Education'].value_counts(normalize=True)\n",
    "print(education_counts_strat_without_grouping)"
   ]
  },
  {
   "cell_type": "code",
   "execution_count": 321,
   "metadata": {},
   "outputs": [],
   "source": [
    "# Proportional stratified sampling for 40% of each Education group with grouping\n",
    "attrition_strat = attrition_pop.groupby('Education').\\\n",
    "    sample(frac=0.4, random_state=2022)\n",
    "\n",
    "# Print the sample\n",
    "# print(attrition_strat)"
   ]
  },
  {
   "cell_type": "code",
   "execution_count": 322,
   "metadata": {},
   "outputs": [
    {
     "name": "stdout",
     "output_type": "stream",
     "text": [
      "Bachelor         0.389456\n",
      "Master           0.270408\n",
      "College          0.192177\n",
      "Below_College    0.115646\n",
      "Doctor           0.032313\n",
      "Name: Education, dtype: float64\n"
     ]
    }
   ],
   "source": [
    "# Calculate the Education level proportions from attrition_strat\n",
    "education_counts_strat = attrition_strat['Education'].value_counts(normalize=True)\n",
    "# Print education_counts_strat\n",
    "print(education_counts_strat)"
   ]
  },
  {
   "cell_type": "markdown",
   "metadata": {},
   "source": [
    "By grouping then sampling, the size of each group in the sample is representative more than without grouping of the size of the sample in the population."
   ]
  },
  {
   "cell_type": "markdown",
   "metadata": {},
   "source": [
    "<b>2.2 Equal counts stratified sampling</b>\n",
    "\n",
    "If one subgroup is larger than another subgroup in the population, but you don't want to reflect that difference in your analysis, then you can use equal counts stratified sampling to generate samples where each subgroup has the same amount of data. For example, if you are analyzing blood types, O is the most common blood type worldwide, but you may wish to have equal amounts of O, A, B, and AB in your sample."
   ]
  },
  {
   "cell_type": "code",
   "execution_count": 323,
   "metadata": {},
   "outputs": [
    {
     "name": "stdout",
     "output_type": "stream",
     "text": [
      "Below_College    0.2\n",
      "College          0.2\n",
      "Bachelor         0.2\n",
      "Master           0.2\n",
      "Doctor           0.2\n",
      "Name: Education, dtype: float64\n"
     ]
    }
   ],
   "source": [
    "# Get 30 employees from each Education group\n",
    "attrition_eq = attrition_pop.groupby('Education')\\\n",
    "\t.sample(n=30, random_state=2022)      \n",
    "\n",
    "# Get the proportions from attrition_eq\n",
    "education_counts_eq = attrition_eq['Education'].value_counts(normalize=True)\n",
    "\n",
    "# Print the results\n",
    "print(education_counts_eq)"
   ]
  },
  {
   "cell_type": "markdown",
   "metadata": {},
   "source": [
    "If you want each subgroup to have equal weight in your analysis, then equal counts stratified sampling is the appropriate technique."
   ]
  },
  {
   "cell_type": "markdown",
   "metadata": {},
   "source": [
    "<b>2.3 Weighted sampling</b>\n",
    "\n",
    "Stratified sampling provides rules about the probability of picking rows from your dataset at the subgroup level. A generalization of this is weighted sampling, which lets you specify rules about the probability of picking rows at the row level. The probability of picking any given row is proportional to the weight value for that row."
   ]
  },
  {
   "cell_type": "code",
   "execution_count": 324,
   "metadata": {},
   "outputs": [
    {
     "data": {
      "image/png": "[encoded data removed]",
      "text/plain": [
       "<Figure size 640x480 with 1 Axes>"
      ]
     },
     "metadata": {},
     "output_type": "display_data"
    }
   ],
   "source": [
    "'''Plot YearsAtCompany from attrition_pop as a histogram with bins of width 1 from 0 to 40'''\n",
    "import numpy as np\n",
    "# Plot YearsAtCompany from attrition_pop as a histogram\n",
    "attrition_pop['YearsAtCompany'].hist(bins=np.arange(0, 41, 1))\n",
    "plt.title('YearsAtCompany from attrition_pop')\n",
    "plt.show()"
   ]
  },
  {
   "cell_type": "code",
   "execution_count": 325,
   "metadata": {},
   "outputs": [],
   "source": [
    "'''Sample 400 employees from attrition_pop weighted by YearsAtCompany'''\n",
    "\n",
    "# Sample 400 employees weighted by YearsAtCompany\n",
    "attrition_weight = attrition_pop.sample(n=400, weights='YearsAtCompany')\n",
    "\n",
    "# Print the sample\n",
    "# print(attrition_weight)"
   ]
  },
  {
   "cell_type": "code",
   "execution_count": 326,
   "metadata": {},
   "outputs": [
    {
     "data": {
      "image/png": "[encoded data removed]",
      "text/plain": [
       "<Figure size 640x480 with 1 Axes>"
      ]
     },
     "metadata": {},
     "output_type": "display_data"
    }
   ],
   "source": [
    "'''Plot YearsAtCompany from attrition_weight as a histogram with bins of width 1 from 0 to 40'''\n",
    "import numpy as np\n",
    "# Plot YearsAtCompany from attrition_weight as a histogram\n",
    "attrition_weight['YearsAtCompany'].hist(bins=np.arange(0, 41, 1))\n",
    "plt.title('YearsAtCompany from attrition_weight')\n",
    "plt.show()"
   ]
  },
  {
   "cell_type": "markdown",
   "metadata": {},
   "source": [
    "<b>Question</b>\n",
    "\n",
    "Which is higher? The mean YearsAtCompany from attrition_pop or the mean YearsAtCompany from attrition_weight?\n",
    "\n",
    "Possible Answers\n",
    "- Population mean.\n",
    "\n",
    "- Both means are identical.\n",
    "\n",
    "- Sample mean. ------------------------------True\n",
    "\n",
    "- It is impossible to calculate the two means."
   ]
  },
  {
   "cell_type": "code",
   "execution_count": 327,
   "metadata": {},
   "outputs": [
    {
     "data": {
      "image/png": "[encoded data removed]",
      "text/plain": [
       "<Figure size 640x480 with 1 Axes>"
      ]
     },
     "metadata": {},
     "output_type": "display_data"
    },
    {
     "name": "stdout",
     "output_type": "stream",
     "text": [
      "The mean YearsAtCompany from attrition_pop is:  7.0081632653061225\n",
      "The mean YearsAtCompany from attrition_weight is:  11.125\n"
     ]
    }
   ],
   "source": [
    "# Plot YearsAtCompany from attrition_pop and attrition_weight on the same plot as histograms\n",
    "plt.style.use(\"ggplot\")\n",
    "fig, ax = plt.subplots()\n",
    "ax.hist(attrition_pop['YearsAtCompany'], bins=np.arange(0, 41, 1))\n",
    "ax.hist(attrition_weight['YearsAtCompany'], bins=np.arange(0, 41, 1))\n",
    "plt.title('YearsAtCompany from attrition_pop and \\nattrition_weight')\n",
    "plt.show()\n",
    "\n",
    "# Find the mean for YearsAtCompany from attrition_pop and from YearsAtCompany from attrition_weight\n",
    "print('The mean YearsAtCompany from attrition_pop is: ', attrition_pop['YearsAtCompany'].mean())\n",
    "print('The mean YearsAtCompany from attrition_weight is: ', attrition_weight['YearsAtCompany'].mean())"
   ]
  },
  {
   "cell_type": "markdown",
   "metadata": {},
   "source": [
    "The weighted sample mean is around 11, which is higher than the population mean of around 7. The fact that the two numbers are different means that the weighted simple random sample is biased."
   ]
  },
  {
   "cell_type": "markdown",
   "metadata": {},
   "source": [
    "# 3. Cluster sampling\n"
   ]
  },
  {
   "cell_type": "markdown",
   "metadata": {},
   "source": [
    "<b>3.1 Benefits of clustering</b>\n",
    "\n",
    "Cluster sampling is a two-stage sampling technique that is closely related to stratified sampling. First, you randomly sample which subgroups to include in the sample, then randomly sample rows within each subgroup.\n",
    "\n",
    "In which of the following situations would cluster sampling be preferable to stratified sampling?\n",
    "\n",
    "Possible Answers\n",
    "\n",
    "- The interest is on ensuring each rare group will be represented in the sample selected.\n",
    "\n",
    "- Cost is not a limitation, and time can be spent carefully sampling from each group in the population.\n",
    "\n",
    "- Collecting an overall sample requires lots of travel from one group to another to collect samples within each group. (True)\n",
    "\n",
    "- The focus is on comparing particular subgroups within the population.\n",
    "\n",
    "The main benefit of cluster sampling over stratified sampling is that you can save time and money by not including every subgroup in your sample."
   ]
  },
  {
   "cell_type": "markdown",
   "metadata": {},
   "source": [
    "<b>3.2 Performing cluster sampling</b>\n",
    "\n",
    "Now that you know when to use cluster sampling, it's time to put it into action. In this exercise, you'll explore the JobRole column of the attrition dataset. You can think of each job role as a subgroup of the whole population of employees.\n",
    "\n",
    "attrition_pop is available; pandas is loaded with its usual alias, and the random package is available. A seed of 19790801 has also been set with random.seed()."
   ]
  },
  {
   "cell_type": "code",
   "execution_count": 328,
   "metadata": {},
   "outputs": [
    {
     "name": "stdout",
     "output_type": "stream",
     "text": [
      "      Age  Attrition     BusinessTravel  DailyRate            Department  \\\n",
      "1348   44        1.0      Travel_Rarely       1376       Human_Resources   \n",
      "886    41        0.0         Non-Travel        552       Human_Resources   \n",
      "983    39        0.0      Travel_Rarely        141       Human_Resources   \n",
      "88     27        1.0  Travel_Frequently       1337       Human_Resources   \n",
      "189    34        0.0      Travel_Rarely        829       Human_Resources   \n",
      "160    24        0.0  Travel_Frequently        897       Human_Resources   \n",
      "839    46        0.0      Travel_Rarely        991       Human_Resources   \n",
      "966    30        0.0      Travel_Rarely       1240       Human_Resources   \n",
      "162    28        0.0         Non-Travel        280       Human_Resources   \n",
      "1231   37        0.0      Travel_Rarely       1239       Human_Resources   \n",
      "1375   44        0.0      Travel_Rarely       1315  Research_Development   \n",
      "1462   54        0.0      Travel_Rarely        584  Research_Development   \n",
      "1316   45        0.0  Travel_Frequently        364  Research_Development   \n",
      "1356   48        0.0  Travel_Frequently        117  Research_Development   \n",
      "1387   48        0.0         Non-Travel       1262  Research_Development   \n",
      "1321   54        0.0         Non-Travel        142       Human_Resources   \n",
      "1266   50        0.0      Travel_Rarely       1452  Research_Development   \n",
      "1330   46        0.0      Travel_Rarely        406                 Sales   \n",
      "1052   59        0.0      Travel_Rarely       1089                 Sales   \n",
      "1449   52        0.0      Travel_Rarely        699  Research_Development   \n",
      "1439   58        0.0      Travel_Rarely       1055  Research_Development   \n",
      "1339   58        0.0  Travel_Frequently       1216  Research_Development   \n",
      "1426   49        0.0      Travel_Rarely       1245  Research_Development   \n",
      "1415   48        0.0      Travel_Rarely       1224  Research_Development   \n",
      "1322   51        0.0      Travel_Rarely        684  Research_Development   \n",
      "1284   40        0.0      Travel_Rarely       1308  Research_Development   \n",
      "1149   37        0.0      Travel_Rarely        161  Research_Development   \n",
      "1126   42        0.0      Travel_Rarely        810  Research_Development   \n",
      "1374   46        0.0      Travel_Rarely       1009  Research_Development   \n",
      "1050   33        0.0      Travel_Rarely        213  Research_Development   \n",
      "86     26        0.0      Travel_Rarely        482  Research_Development   \n",
      "930    52        1.0      Travel_Rarely        723  Research_Development   \n",
      "860    37        0.0      Travel_Rarely        674  Research_Development   \n",
      "36     20        1.0      Travel_Rarely       1362  Research_Development   \n",
      "997    32        0.0      Travel_Rarely        824  Research_Development   \n",
      "1358   45        0.0      Travel_Rarely       1339  Research_Development   \n",
      "993    41        0.0  Travel_Frequently       1200  Research_Development   \n",
      "421    34        0.0      Travel_Rarely        181  Research_Development   \n",
      "789    28        1.0      Travel_Rarely        654  Research_Development   \n",
      "94     36        1.0      Travel_Rarely        318  Research_Development   \n",
      "\n",
      "      DistanceFromHome      Education    EducationField  \\\n",
      "1348                 1        College           Medical   \n",
      "886                  4       Bachelor   Human_Resources   \n",
      "983                  3       Bachelor   Human_Resources   \n",
      "88                  22       Bachelor   Human_Resources   \n",
      "189                  3        College   Human_Resources   \n",
      "160                 10       Bachelor           Medical   \n",
      "839                  1        College     Life_Sciences   \n",
      "966                  9       Bachelor   Human_Resources   \n",
      "162                  1        College     Life_Sciences   \n",
      "1231                 8        College             Other   \n",
      "1375                 3         Master             Other   \n",
      "1462                22         Doctor           Medical   \n",
      "1316                25       Bachelor           Medical   \n",
      "1356                22       Bachelor           Medical   \n",
      "1387                 1         Master           Medical   \n",
      "1321                26       Bachelor   Human_Resources   \n",
      "1266                11       Bachelor     Life_Sciences   \n",
      "1330                 3  Below_College         Marketing   \n",
      "1052                 1        College  Technical_Degree   \n",
      "1449                 1         Master     Life_Sciences   \n",
      "1439                 1       Bachelor           Medical   \n",
      "1339                15         Master     Life_Sciences   \n",
      "1426                18         Master     Life_Sciences   \n",
      "1415                10       Bachelor     Life_Sciences   \n",
      "1322                 6       Bachelor     Life_Sciences   \n",
      "1284                14       Bachelor           Medical   \n",
      "1149                10       Bachelor     Life_Sciences   \n",
      "1126                23         Doctor     Life_Sciences   \n",
      "1374                 2       Bachelor     Life_Sciences   \n",
      "1050                 7       Bachelor           Medical   \n",
      "86                   1        College     Life_Sciences   \n",
      "930                  8         Master           Medical   \n",
      "860                 13       Bachelor           Medical   \n",
      "36                  10  Below_College           Medical   \n",
      "997                  5        College     Life_Sciences   \n",
      "1358                 7       Bachelor     Life_Sciences   \n",
      "993                 22       Bachelor     Life_Sciences   \n",
      "421                  2         Master           Medical   \n",
      "789                  1        College     Life_Sciences   \n",
      "94                   9       Bachelor           Medical   \n",
      "\n",
      "     EnvironmentSatisfaction  Gender  ...  PerformanceRating  \\\n",
      "1348                  Medium    Male  ...          Excellent   \n",
      "886                     High    Male  ...          Excellent   \n",
      "983                     High  Female  ...          Excellent   \n",
      "88                       Low  Female  ...          Excellent   \n",
      "189                     High    Male  ...          Excellent   \n",
      "160                      Low    Male  ...          Excellent   \n",
      "839                Very_High  Female  ...          Excellent   \n",
      "966                     High    Male  ...          Excellent   \n",
      "162                     High    Male  ...          Excellent   \n",
      "1231                    High    Male  ...          Excellent   \n",
      "1375               Very_High    Male  ...          Excellent   \n",
      "1462                  Medium  Female  ...        Outstanding   \n",
      "1316                  Medium  Female  ...        Outstanding   \n",
      "1356               Very_High  Female  ...          Excellent   \n",
      "1387                     Low    Male  ...        Outstanding   \n",
      "1321               Very_High  Female  ...          Excellent   \n",
      "1266                    High  Female  ...          Excellent   \n",
      "1330                     Low    Male  ...          Excellent   \n",
      "1052                  Medium    Male  ...          Excellent   \n",
      "1449                    High    Male  ...          Excellent   \n",
      "1439               Very_High  Female  ...        Outstanding   \n",
      "1339                     Low    Male  ...          Excellent   \n",
      "1426               Very_High    Male  ...          Excellent   \n",
      "1415               Very_High    Male  ...          Excellent   \n",
      "1322                     Low    Male  ...          Excellent   \n",
      "1284                    High    Male  ...          Excellent   \n",
      "1149                    High  Female  ...        Outstanding   \n",
      "1126                     Low  Female  ...          Excellent   \n",
      "1374                     Low    Male  ...          Excellent   \n",
      "1050                    High    Male  ...          Excellent   \n",
      "86                    Medium  Female  ...          Excellent   \n",
      "930                     High    Male  ...          Excellent   \n",
      "860                      Low    Male  ...          Excellent   \n",
      "36                 Very_High    Male  ...          Excellent   \n",
      "997                Very_High  Female  ...          Excellent   \n",
      "1358                  Medium    Male  ...          Excellent   \n",
      "993                Very_High  Female  ...          Excellent   \n",
      "421                Very_High    Male  ...          Excellent   \n",
      "789                      Low  Female  ...          Excellent   \n",
      "94                 Very_High    Male  ...          Excellent   \n",
      "\n",
      "     RelationshipSatisfaction  StockOptionLevel TotalWorkingYears  \\\n",
      "1348                Very_High                 1                24   \n",
      "886                    Medium                 1                10   \n",
      "983                      High                 1                12   \n",
      "88                        Low                 0                 1   \n",
      "189                      High                 1                 4   \n",
      "160                 Very_High                 1                 3   \n",
      "839                      High                 0                10   \n",
      "966                 Very_High                 0                12   \n",
      "162                    Medium                 1                 3   \n",
      "1231                     High                 0                19   \n",
      "1375                      Low                 1                26   \n",
      "1462                     High                 1                36   \n",
      "1316                     High                 0                22   \n",
      "1356                   Medium                 1                24   \n",
      "1387                     High                 0                27   \n",
      "1321                     High                 0                23   \n",
      "1266                   Medium                 0                21   \n",
      "1330                Very_High                 1                23   \n",
      "1052                     High                 1                14   \n",
      "1449                      Low                 1                34   \n",
      "1439                     High                 1                32   \n",
      "1339                   Medium                 0                23   \n",
      "1426                     High                 1                31   \n",
      "1415                Very_High                 0                29   \n",
      "1322                     High                 0                23   \n",
      "1284                      Low                 0                21   \n",
      "1149                      Low                 1                16   \n",
      "1126                   Medium                 0                16   \n",
      "1374                     High                 0                26   \n",
      "1050                Very_High                 0                14   \n",
      "86                       High                 1                 1   \n",
      "930                       Low                 0                11   \n",
      "860                       Low                 0                10   \n",
      "36                  Very_High                 0                 1   \n",
      "997                       Low                 1                12   \n",
      "1358                     High                 1                25   \n",
      "993                       Low                 2                12   \n",
      "421                       Low                 3                 6   \n",
      "789                 Very_High                 0                10   \n",
      "94                        Low                 1                 2   \n",
      "\n",
      "     TrainingTimesLastYear WorkLifeBalance  YearsAtCompany  \\\n",
      "1348                     1          Better              20   \n",
      "886                      4          Better               3   \n",
      "983                      3             Bad               8   \n",
      "88                       2          Better               1   \n",
      "189                      1             Bad               3   \n",
      "160                      2          Better               2   \n",
      "839                      3            Best               7   \n",
      "966                      2             Bad              11   \n",
      "162                      2          Better               3   \n",
      "1231                     4            Good              10   \n",
      "1375                     2            Best               2   \n",
      "1462                     6          Better              10   \n",
      "1316                     4          Better               0   \n",
      "1356                     3          Better              22   \n",
      "1387                     3            Good               5   \n",
      "1321                     3          Better               5   \n",
      "1266                     5          Better               5   \n",
      "1330                     3          Better              12   \n",
      "1052                     1             Bad               6   \n",
      "1449                     5          Better              33   \n",
      "1439                     3          Better               9   \n",
      "1339                     3          Better               2   \n",
      "1426                     5          Better              31   \n",
      "1415                     3          Better              22   \n",
      "1322                     5          Better              20   \n",
      "1284                     2            Best              20   \n",
      "1149                     2          Better              16   \n",
      "1126                     2          Better               1   \n",
      "1374                     2             Bad               3   \n",
      "1050                     3            Best              13   \n",
      "86                       3            Good               1   \n",
      "930                      3            Good               8   \n",
      "860                      2          Better              10   \n",
      "36                       5          Better               1   \n",
      "997                      2          Better               7   \n",
      "1358                     2          Better               1   \n",
      "993                      4            Good               6   \n",
      "421                      3          Better               5   \n",
      "789                      4          Better               7   \n",
      "94                       0            Good               1   \n",
      "\n",
      "      YearsInCurrentRole  YearsSinceLastPromotion YearsWithCurrManager  \n",
      "1348                   6                        3                    6  \n",
      "886                    2                        1                    2  \n",
      "983                    3                        3                    6  \n",
      "88                     0                        0                    0  \n",
      "189                    2                        0                    2  \n",
      "160                    2                        2                    1  \n",
      "839                    6                        5                    7  \n",
      "966                    9                        4                    7  \n",
      "162                    2                        2                    2  \n",
      "1231                   0                        4                    7  \n",
      "1375                   2                        0                    1  \n",
      "1462                   8                        4                    7  \n",
      "1316                   0                        0                    0  \n",
      "1356                  17                        4                    7  \n",
      "1387                   4                        2                    1  \n",
      "1321                   3                        4                    4  \n",
      "1266                   4                        4                    4  \n",
      "1330                   9                        4                    9  \n",
      "1052                   4                        0                    4  \n",
      "1449                  18                       11                    9  \n",
      "1439                   8                        1                    5  \n",
      "1339                   2                        2                    2  \n",
      "1426                   9                        0                    9  \n",
      "1415                  10                       12                    9  \n",
      "1322                  18                       15                   15  \n",
      "1284                   7                        4                    9  \n",
      "1149                  11                        6                    8  \n",
      "1126                   0                        0                    0  \n",
      "1374                   2                        0                    1  \n",
      "1050                   9                        3                    7  \n",
      "86                     0                        1                    0  \n",
      "930                    2                        7                    7  \n",
      "860                    8                        3                    7  \n",
      "36                     0                        1                    1  \n",
      "997                    1                        2                    5  \n",
      "1358                   0                        0                    0  \n",
      "993                    2                        3                    3  \n",
      "421                    0                        1                    2  \n",
      "789                    7                        3                    7  \n",
      "94                     0                        0                    0  \n",
      "\n",
      "[40 rows x 31 columns]\n"
     ]
    },
    {
     "name": "stderr",
     "output_type": "stream",
     "text": [
      "C:\\Users\\yazan\\AppData\\Local\\Temp\\ipykernel_56976\\4001494793.py:14: SettingWithCopyWarning: \n",
      "A value is trying to be set on a copy of a slice from a DataFrame.\n",
      "Try using .loc[row_indexer,col_indexer] = value instead\n",
      "\n",
      "See the caveats in the documentation: https://pandas.pydata.org/pandas-docs/stable/user_guide/indexing.html#returning-a-view-versus-a-copy\n",
      "  attrition_filtered['JobRole'] = attrition_filtered['JobRole'].cat.remove_unused_categories()\n"
     ]
    }
   ],
   "source": [
    "# Create a list of unique JobRole values\n",
    "job_roles_pop = list(attrition_pop['JobRole'].unique())\n",
    "\n",
    "# Randomly sample four JobRole values\n",
    "import random\n",
    "random.seed(19790801)\n",
    "job_roles_samp = random.sample(job_roles_pop, k=4)\n",
    "\n",
    "# Filter for rows where JobRole is in job_roles_samp\n",
    "jobrole_condition = attrition_pop['JobRole'].isin(job_roles_samp)\n",
    "attrition_filtered = attrition_pop[jobrole_condition]\n",
    "\n",
    "# Remove categories with no rows\n",
    "attrition_filtered['JobRole'] = attrition_filtered['JobRole'].cat.remove_unused_categories()\n",
    "\n",
    "# Randomly sample 10 employees from each sampled job role\n",
    "attrition_clust = attrition_filtered.groupby('JobRole').sample(n=10, random_state=2022)\n",
    "\n",
    "\n",
    "# Print the sample\n",
    "print(attrition_clust)"
   ]
  },
  {
   "cell_type": "markdown",
   "metadata": {},
   "source": [
    "# 4. Comparing sampling methods"
   ]
  },
  {
   "cell_type": "markdown",
   "metadata": {},
   "source": [
    "<b>4.1 3 kinds of sampling</b>\n",
    "\n",
    "You're going to compare the performance of point estimates using simple, stratified, and cluster sampling. Before doing that, you'll have to set up the samples.\n",
    "\n",
    "You'll use the RelationshipSatisfaction column of the attrition_pop dataset, which categorizes the employee's relationship with the company. It has four levels: Low, Medium, High, and Very_High. pandas has been loaded with its usual alias, and the random package has been loaded."
   ]
  },
  {
   "cell_type": "code",
   "execution_count": 329,
   "metadata": {},
   "outputs": [],
   "source": [
    "'''Perform simple random sampling on attrition_pop to get one-quarter of the population, setting the seed to 2022'''\n",
    "# Perform simple random sampling to get 0.25 of the population\n",
    "attrition_srs = attrition_pop.sample(frac=0.25, random_state=2022)"
   ]
  },
  {
   "cell_type": "code",
   "execution_count": 330,
   "metadata": {},
   "outputs": [],
   "source": [
    "'''Perform stratified sampling on attrition_pop to sample one-quarter of each RelationshipSatisfaction group, \n",
    "setting the seed to 2022.'''\n",
    "# Perform stratified sampling to get 0.25 of each relationship group\n",
    "attrition_strat = attrition_pop.groupby('RelationshipSatisfaction').sample(frac=1/3, random_state=2022)"
   ]
  },
  {
   "cell_type": "code",
   "execution_count": 331,
   "metadata": {},
   "outputs": [
    {
     "name": "stderr",
     "output_type": "stream",
     "text": [
      "C:\\Users\\yazan\\AppData\\Local\\Temp\\ipykernel_56976\\2419167266.py:19: SettingWithCopyWarning: \n",
      "A value is trying to be set on a copy of a slice from a DataFrame.\n",
      "Try using .loc[row_indexer,col_indexer] = value instead\n",
      "\n",
      "See the caveats in the documentation: https://pandas.pydata.org/pandas-docs/stable/user_guide/indexing.html#returning-a-view-versus-a-copy\n",
      "  attrition_clust_prep['RelationshipSatisfaction'] = attrition_clust_prep['RelationshipSatisfaction'].\\\n"
     ]
    }
   ],
   "source": [
    "'''\n",
    "- Create a list of unique values from attrition_pop's RelationshipSatisfaction column.\n",
    "- Randomly sample satisfaction_unique to get two values.\n",
    "- Subset the population for rows where RelationshipSatisfaction is in satisfaction_samp and clear any unused \n",
    "  categories from RelationshipSatisfaction; assign to attrition_clust_prep.\n",
    "- Perform cluster sampling on the selected satisfaction groups, sampling one quarter of the population and setting \n",
    "  the seed to 2022.\n",
    "'''\n",
    "\n",
    "# Create a list of unique RelationshipSatisfaction values\n",
    "satisfaction_unique = list(attrition_pop['RelationshipSatisfaction'].unique())\n",
    "\n",
    "# Randomly sample 2 unique satisfaction values\n",
    "satisfaction_samp = random.sample(satisfaction_unique, k=2)\n",
    "\n",
    "# Filter for satisfaction_samp and clear unused categories from RelationshipSatisfaction\n",
    "satis_condition = attrition_pop['RelationshipSatisfaction'].isin(satisfaction_samp)\n",
    "attrition_clust_prep = attrition_pop[satis_condition]\n",
    "attrition_clust_prep['RelationshipSatisfaction'] = attrition_clust_prep['RelationshipSatisfaction'].\\\n",
    "    cat.remove_unused_categories()\n",
    "\n",
    "# Perform cluster sampling on the selected group, getting 0.25 of attrition_pop\n",
    "attrition_clust = attrition_clust_prep.groupby('RelationshipSatisfaction').\\\n",
    "    sample(n=len(attrition_clust_prep['RelationshipSatisfaction'])//4, random_state=2022)"
   ]
  }
 ],
 "metadata": {
  "kernelspec": {
   "display_name": "Python 3.10.8 64-bit (microsoft store)",
   "language": "python",
   "name": "python3"
  },
  "language_info": {
   "codemirror_mode": {
    "name": "ipython",
    "version": 3
   },
   "file_extension": ".py",
   "mimetype": "text/x-python",
   "name": "python",
   "nbconvert_exporter": "python",
   "pygments_lexer": "ipython3",
   "version": "3.10.8"
  },
  "orig_nbformat": 4,
  "vscode": {
   "interpreter": {
    "hash": "cd85abab4e42ed52d78993b1b54e037968b74145d44eb01d9e116517c8fc42a2"
   }
  }
 },
 "nbformat": 4,
 "nbformat_minor": 2
}

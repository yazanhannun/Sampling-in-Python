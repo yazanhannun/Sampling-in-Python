{
 "cells": [
  {
   "cell_type": "markdown",
   "metadata": {},
   "source": [
    "# Sampling Methods\n",
    "\n",
    "It’s time to get hands-on and perform the four random sampling methods in Python: simple, systematic, stratified, and cluster."
   ]
  },
  {
   "cell_type": "code",
   "execution_count": 4,
   "metadata": {},
   "outputs": [
    {
     "name": "stdout",
     "output_type": "stream",
     "text": [
      "   Age  Attrition     BusinessTravel  DailyRate            Department  \\\n",
      "0   21        0.0      Travel_Rarely        391  Research_Development   \n",
      "1   19        1.0      Travel_Rarely        528                 Sales   \n",
      "2   18        1.0      Travel_Rarely        230  Research_Development   \n",
      "3   18        0.0      Travel_Rarely        812                 Sales   \n",
      "4   18        1.0  Travel_Frequently       1306                 Sales   \n",
      "\n",
      "   DistanceFromHome      Education EducationField EnvironmentSatisfaction  \\\n",
      "0                15        College  Life_Sciences                    High   \n",
      "1                22  Below_College      Marketing               Very_High   \n",
      "2                 3       Bachelor  Life_Sciences                    High   \n",
      "3                10       Bachelor        Medical               Very_High   \n",
      "4                 5       Bachelor      Marketing                  Medium   \n",
      "\n",
      "   Gender  ...  PerformanceRating RelationshipSatisfaction  StockOptionLevel  \\\n",
      "0    Male  ...          Excellent                Very_High                 0   \n",
      "1    Male  ...          Excellent                Very_High                 0   \n",
      "2    Male  ...          Excellent                     High                 0   \n",
      "3  Female  ...          Excellent                      Low                 0   \n",
      "4    Male  ...          Excellent                Very_High                 0   \n",
      "\n",
      "  TotalWorkingYears TrainingTimesLastYear WorkLifeBalance  YearsAtCompany  \\\n",
      "0                 0                     6          Better               0   \n",
      "1                 0                     2            Good               0   \n",
      "2                 0                     2          Better               0   \n",
      "3                 0                     2          Better               0   \n",
      "4                 0                     3          Better               0   \n",
      "\n",
      "   YearsInCurrentRole  YearsSinceLastPromotion YearsWithCurrManager  \n",
      "0                   0                        0                    0  \n",
      "1                   0                        0                    0  \n",
      "2                   0                        0                    0  \n",
      "3                   0                        0                    0  \n",
      "4                   0                        0                    0  \n",
      "\n",
      "[5 rows x 31 columns]\n"
     ]
    }
   ],
   "source": [
    "import pandas as pd\n",
    "attrition_pop = pd.read_feather('C:\\\\Users\\\\yazan\\\\Desktop\\\\Data_Analytics\\\\8-Sampling in Python\\Datasets\\\\attrition.feather')\n",
    "print(attrition_pop.head())"
   ]
  },
  {
   "cell_type": "markdown",
   "metadata": {},
   "source": [
    "# 1. Simple random and systematic sampling"
   ]
  },
  {
   "cell_type": "markdown",
   "metadata": {},
   "source": [
    "<b>1.1 Simple random sampling</b>\n",
    "\n",
    "The simplest method of sampling a population is the one you've seen already. It is known as simple random sampling (sometimes abbreviated to \"SRS\"), and involves picking rows at random, one at a time, where each row has the same chance of being picked as any other.\n",
    "\n",
    "In this chapter, you'll apply sampling methods to a synthetic (fictional) employee attrition dataset from IBM, where \"attrition\" in this context means leaving the company."
   ]
  },
  {
   "cell_type": "code",
   "execution_count": 5,
   "metadata": {},
   "outputs": [
    {
     "name": "stdout",
     "output_type": "stream",
     "text": [
      "      Age  Attrition     BusinessTravel  DailyRate            Department  \\\n",
      "1134   35        0.0      Travel_Rarely        583  Research_Development   \n",
      "1150   52        0.0         Non-Travel        585                 Sales   \n",
      "531    33        0.0      Travel_Rarely        931  Research_Development   \n",
      "395    31        0.0      Travel_Rarely       1332  Research_Development   \n",
      "392    29        0.0      Travel_Rarely        942  Research_Development   \n",
      "...   ...        ...                ...        ...                   ...   \n",
      "361    27        0.0  Travel_Frequently       1410                 Sales   \n",
      "1180   36        0.0      Travel_Rarely        530                 Sales   \n",
      "230    26        0.0      Travel_Rarely       1443                 Sales   \n",
      "211    29        0.0  Travel_Frequently        410  Research_Development   \n",
      "890    30        0.0  Travel_Frequently       1312  Research_Development   \n",
      "\n",
      "      DistanceFromHome      Education    EducationField  \\\n",
      "1134                25         Master           Medical   \n",
      "1150                29         Master     Life_Sciences   \n",
      "531                 14       Bachelor           Medical   \n",
      "395                 11        College           Medical   \n",
      "392                 15  Below_College     Life_Sciences   \n",
      "...                ...            ...               ...   \n",
      "361                  3  Below_College           Medical   \n",
      "1180                 2         Master     Life_Sciences   \n",
      "230                 23       Bachelor         Marketing   \n",
      "211                  2  Below_College     Life_Sciences   \n",
      "890                  2         Master  Technical_Degree   \n",
      "\n",
      "     EnvironmentSatisfaction  Gender  ...  PerformanceRating  \\\n",
      "1134                    High  Female  ...          Excellent   \n",
      "1150                     Low    Male  ...          Excellent   \n",
      "531                Very_High  Female  ...          Excellent   \n",
      "395                     High    Male  ...          Excellent   \n",
      "392                   Medium  Female  ...          Excellent   \n",
      "...                      ...     ...  ...                ...   \n",
      "361                Very_High  Female  ...        Outstanding   \n",
      "1180                    High  Female  ...          Excellent   \n",
      "230                     High  Female  ...          Excellent   \n",
      "211                Very_High  Female  ...          Excellent   \n",
      "890                Very_High  Female  ...          Excellent   \n",
      "\n",
      "     RelationshipSatisfaction  StockOptionLevel TotalWorkingYears  \\\n",
      "1134                     High                 1                16   \n",
      "1150                   Medium                 2                16   \n",
      "531                 Very_High                 1                 8   \n",
      "395                 Very_High                 0                 6   \n",
      "392                       Low                 1                 6   \n",
      "...                       ...               ...               ...   \n",
      "361                    Medium                 2                 6   \n",
      "1180                     High                 0                17   \n",
      "230                      High                 1                 5   \n",
      "211                      High                 3                 4   \n",
      "890                 Very_High                 0                10   \n",
      "\n",
      "     TrainingTimesLastYear WorkLifeBalance  YearsAtCompany  \\\n",
      "1134                     3            Good              16   \n",
      "1150                     3            Good               9   \n",
      "531                      5          Better               8   \n",
      "395                      2            Good               6   \n",
      "392                      2            Good               5   \n",
      "...                    ...             ...             ...   \n",
      "361                      3          Better               6   \n",
      "1180                     2            Good              13   \n",
      "230                      2            Good               2   \n",
      "211                      3          Better               3   \n",
      "890                      2          Better               9   \n",
      "\n",
      "      YearsInCurrentRole  YearsSinceLastPromotion YearsWithCurrManager  \n",
      "1134                  10                       10                    1  \n",
      "1150                   8                        0                    0  \n",
      "531                    7                        1                    6  \n",
      "395                    5                        0                    1  \n",
      "392                    4                        1                    3  \n",
      "...                  ...                      ...                  ...  \n",
      "361                    5                        0                    4  \n",
      "1180                   7                        6                    7  \n",
      "230                    2                        0                    0  \n",
      "211                    2                        0                    2  \n",
      "890                    7                        0                    7  \n",
      "\n",
      "[70 rows x 31 columns]\n"
     ]
    }
   ],
   "source": [
    "# Sample 70 rows using simple random sampling and set the seed\n",
    "attrition_samp = attrition_pop.sample(n=70, random_state=18900217)\n",
    "\n",
    "# Print the sample\n",
    "print(attrition_samp)"
   ]
  }
 ],
 "metadata": {
  "kernelspec": {
   "display_name": "Python 3.10.8 64-bit (microsoft store)",
   "language": "python",
   "name": "python3"
  },
  "language_info": {
   "codemirror_mode": {
    "name": "ipython",
    "version": 3
   },
   "file_extension": ".py",
   "mimetype": "text/x-python",
   "name": "python",
   "nbconvert_exporter": "python",
   "pygments_lexer": "ipython3",
   "version": "3.10.8"
  },
  "orig_nbformat": 4,
  "vscode": {
   "interpreter": {
    "hash": "cd85abab4e42ed52d78993b1b54e037968b74145d44eb01d9e116517c8fc42a2"
   }
  }
 },
 "nbformat": 4,
 "nbformat_minor": 2
}

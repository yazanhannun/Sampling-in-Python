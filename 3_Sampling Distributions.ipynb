{
 "cells": [
  {
   "cell_type": "markdown",
   "metadata": {},
   "source": [
    "# Sampling Distributions"
   ]
  },
  {
   "cell_type": "code",
   "execution_count": 80,
   "metadata": {},
   "outputs": [],
   "source": [
    "import pandas as pd\n",
    "attrition_pop = pd.read_feather('C:\\\\Users\\\\yazan\\\\Desktop\\\\Data_Analytics\\\\8-Sampling in Python\\\\Datasets\\\\attrition.feather')\n"
   ]
  },
  {
   "cell_type": "markdown",
   "metadata": {},
   "source": [
    "# 1. Relative error of point estimates"
   ]
  },
  {
   "cell_type": "markdown",
   "metadata": {},
   "source": [
    "<b>1.1 Calculating relative errors</b>\n",
    "\n",
    "The size of the sample you take affects how accurately the point estimates reflect the corresponding population parameter. For example, when you calculate a sample mean, you want it to be close to the population mean. However, if your sample is too small, this might not be the case.\n",
    "\n",
    "The most common metric for assessing accuracy is relative error. This is the absolute difference between the population parameter and the point estimate, all divided by the population parameter. It is sometimes expressed as a percentage."
   ]
  },
  {
   "cell_type": "code",
   "execution_count": 81,
   "metadata": {},
   "outputs": [
    {
     "name": "stdout",
     "output_type": "stream",
     "text": [
      "62.78481012658227\n"
     ]
    }
   ],
   "source": [
    "# Generate a simple random sample of 50 rows, with seed 2022\n",
    "attrition_srs50 = attrition_pop.sample(n=50, random_state=2022)\n",
    "\n",
    "# Calculate teh mean employee attrition in the population sampel\n",
    "mean_attrition_pop = attrition_pop['Attrition'].mean()\n",
    "\n",
    "# Calculate the mean employee attrition in the sample\n",
    "mean_attrition_srs50 = attrition_srs50['Attrition'].mean()\n",
    "\n",
    "# Calculate the relative error percentage\n",
    "rel_error_pct50 = 100 * abs(mean_attrition_pop-mean_attrition_srs50)/mean_attrition_pop\n",
    "\n",
    "# Print rel_error_pct50\n",
    "print(rel_error_pct50)"
   ]
  },
  {
   "cell_type": "code",
   "execution_count": 82,
   "metadata": {},
   "outputs": [
    {
     "name": "stdout",
     "output_type": "stream",
     "text": [
      "6.962025316455695\n"
     ]
    }
   ],
   "source": [
    "# Generate a simple random sample of 100 rows, with seed 2022\n",
    "attrition_srs100 = attrition_pop.sample(n=100, random_state=2022)\n",
    "\n",
    "# Calculate the mean employee attrition in the sample\n",
    "mean_attrition_srs100 = attrition_srs100['Attrition'].mean()\n",
    "\n",
    "# Calculate the relative error percentage\n",
    "rel_error_pct100 = 100 * abs(mean_attrition_pop - mean_attrition_srs100)/mean_attrition_pop\n",
    "\n",
    "# Print rel_error_pct100\n",
    "print(rel_error_pct100)"
   ]
  },
  {
   "cell_type": "markdown",
   "metadata": {},
   "source": [
    "As you increase the sample size, the sample mean generally gets closer to the population mean, and the relative error decreases."
   ]
  },
  {
   "cell_type": "markdown",
   "metadata": {},
   "source": [
    "# 2. Creating a sampling distribution"
   ]
  },
  {
   "cell_type": "markdown",
   "metadata": {},
   "source": [
    "<b>2.1 Replicating samples</b>\n",
    "\n",
    "When you calculate a point estimate such as a sample mean, the value you calculate depends on the rows that were included in the sample. That means that there is some randomness in the answer. In order to quantify the variation caused by this randomness, you can create many samples and calculate the sample mean (or another statistic) for each sample."
   ]
  },
  {
   "cell_type": "code",
   "execution_count": 83,
   "metadata": {},
   "outputs": [
    {
     "data": {
      "image/png": "[encoded data removed]",
      "text/plain": [
       "<Figure size 640x480 with 1 Axes>"
      ]
     },
     "metadata": {},
     "output_type": "display_data"
    }
   ],
   "source": [
    "import matplotlib.pyplot as plt\n",
    "# Create an empty list\n",
    "mean_attritions = []\n",
    "# Loop 500 times to create 500 sample means\n",
    "for i in range(500):\n",
    "\tmean_attritions.append(\n",
    "    \tattrition_pop.sample(n=60)['Attrition'].mean()\n",
    "\t)\n",
    "\n",
    "# Create a histogram of the 500 sample means\n",
    "plt.hist(mean_attritions, bins=16)\n",
    "plt.show()"
   ]
  },
  {
   "cell_type": "markdown",
   "metadata": {},
   "source": [
    "By generating the sample statistic many times with different samples, you can quantify the amount of variation in those statistics."
   ]
  },
  {
   "cell_type": "markdown",
   "metadata": {},
   "source": [
    "<b>2.2 Replication parameters</b>\n",
    "\n",
    "There are two parameters that effect the range sample distribution range: the size of each simple random sample, and the number of replicates. It's important to understand how each of these parameters affects the result. Use the parameter sliders to explore different values and note their effect on the histogram.\n",
    "\n",
    "\n",
    "<b>Question</b>\n",
    "\n",
    "Which statement about the effect of each parameter on the distribution of sample means is true?\n",
    "\n",
    "Possible Answers:\n",
    "\n",
    "- As the sample size increases, the range of calculated sample means tends to increase.\n",
    "\n",
    "- As the number of replicates increases, the range of calculated sample means tends to increase.\n",
    "\n",
    "- As the sample size increases, the range of calculated sample means tends to decrease.  (True)\n",
    "\n",
    "- As the number of replicates increases, the range of calculated sample means tends to decrease."
   ]
  },
  {
   "cell_type": "markdown",
   "metadata": {},
   "source": [
    "As sample size increases, on average each sample mean has a lower relative error compared to the population mean, thus reducing the range of the distribution."
   ]
  },
  {
   "cell_type": "markdown",
   "metadata": {},
   "source": [
    "# 3. Approximate sampling distributions"
   ]
  },
  {
   "cell_type": "markdown",
   "metadata": {},
   "source": [
    "<b>3.1 Exact sampling distribution</b>\n",
    "\n",
    "To quantify how the point estimate (sample statistic) you are interested in varies, you need to know all the possible values it can take and how often. That is, you need to know its distribution.\n",
    "\n",
    "The distribution of a sample statistic is called the sampling distribution. When we can calculate this exactly, rather than using an approximation, it is known as the exact sampling distribution.\n",
    "\n",
    "Let's take a look at the sampling distribution of dice rolls. This time, we'll look at five eight-sided dice. (These have the numbers one to eight.)\n",
    "\n",
    "The expand_grid() function is also available, which expects a dictionary of key-value pairs as its argument. The definition of the expand_grid() function is provided in the pandas documentation(https://pandas.pydata.org/pandas-docs/version/0.17.1/cookbook.html#sql).\n",
    "\n",
    "```python:\n",
    " def expand_grid(data_dict):\n",
    "    rows = itertools.product(*data_dict.values())\n",
    "    return pd.DataFrame.from_records(rows, columns=data_dict.keys())\n",
    "```"
   ]
  },
  {
   "cell_type": "code",
   "execution_count": 84,
   "metadata": {},
   "outputs": [
    {
     "name": "stdout",
     "output_type": "stream",
     "text": [
      "       die1  die2  die3  die4  die5\n",
      "0         1     1     1     1     1\n",
      "1         1     1     1     1     2\n",
      "2         1     1     1     1     3\n",
      "3         1     1     1     1     4\n",
      "4         1     1     1     1     5\n",
      "...     ...   ...   ...   ...   ...\n",
      "32763     8     8     8     8     4\n",
      "32764     8     8     8     8     5\n",
      "32765     8     8     8     8     6\n",
      "32766     8     8     8     8     7\n",
      "32767     8     8     8     8     8\n",
      "\n",
      "[32768 rows x 5 columns]\n"
     ]
    }
   ],
   "source": [
    "'''\n",
    "Expand a grid representing 5 8-sided dice. That is, create a DataFrame with five columns from a dictionary, \n",
    "named die1 to die5. The rows should contain all possibilities for throwing five dice, each numbered 1 to 8.'''\n",
    "\n",
    "import pandas as pd\n",
    "import itertools\n",
    "def expand_grid(data_dict):\n",
    "    rows = itertools.product(*data_dict.values())\n",
    "    return pd.DataFrame.from_records(rows, columns=data_dict.keys())\n",
    "\n",
    "# Expand a grid representing 5 8-sided dice\n",
    "dice = expand_grid(\n",
    "\n",
    "    {'die1':[1, 2, 3, 4, 5, 6, 7, 8],\n",
    "     'die2':[1, 2, 3, 4, 5, 6, 7, 8],\n",
    "     'die3':[1, 2, 3, 4, 5, 6, 7, 8],\n",
    "     'die4':[1, 2, 3, 4, 5, 6, 7, 8],\n",
    "     'die5':[1, 2, 3, 4, 5, 6, 7, 8],\n",
    "    }\n",
    ")\n",
    "\n",
    "# Print the result\n",
    "print(dice)"
   ]
  },
  {
   "cell_type": "code",
   "execution_count": 85,
   "metadata": {},
   "outputs": [
    {
     "name": "stdout",
     "output_type": "stream",
     "text": [
      "       die1  die2  die3  die4  die5 mean_roll\n",
      "0         1     1     1     1     1       1.0\n",
      "1         1     1     1     1     2       1.2\n",
      "2         1     1     1     1     3       1.4\n",
      "3         1     1     1     1     4       1.6\n",
      "4         1     1     1     1     5       1.8\n",
      "...     ...   ...   ...   ...   ...       ...\n",
      "32763     8     8     8     8     4       7.2\n",
      "32764     8     8     8     8     5       7.4\n",
      "32765     8     8     8     8     6       7.6\n",
      "32766     8     8     8     8     7       7.8\n",
      "32767     8     8     8     8     8       8.0\n",
      "\n",
      "[32768 rows x 6 columns]\n"
     ]
    }
   ],
   "source": [
    "'''Add a column, mean_roll, to dice, that contains the mean of the five rolls as a categorical.'''\n",
    "\n",
    "# Add a column of mean rolls and convert to a categorical\n",
    "dice['mean_roll'] = (dice['die1'] + dice['die2'] + \n",
    "                     dice['die3'] + dice['die4'] + \n",
    "                     dice['die5']) / 5\n",
    "                                  \n",
    "dice['mean_roll'] = dice['mean_roll'].astype('category')\n",
    "\n",
    "# Print result\n",
    "print(dice)"
   ]
  },
  {
   "cell_type": "code",
   "execution_count": 86,
   "metadata": {},
   "outputs": [
    {
     "data": {
      "image/png": "[encoded data removed]",
      "text/plain": [
       "<Figure size 640x480 with 1 Axes>"
      ]
     },
     "metadata": {},
     "output_type": "display_data"
    }
   ],
   "source": [
    "'''\n",
    "Create a bar plot of the mean_roll categorical column, so it displays the count of each mean_roll \n",
    "in increasing order from 1.0 to 8.0.'''\n",
    "\n",
    "import matplotlib.pyplot as plt\n",
    "# Draw a bar plot of mean_roll\n",
    "dice['mean_roll'].value_counts(sort=False).plot(kind='bar')\n",
    "plt.show()"
   ]
  },
  {
   "cell_type": "markdown",
   "metadata": {},
   "source": [
    "The exact sampling distribution shows all possible variations of the point estimate that you are interested in."
   ]
  },
  {
   "cell_type": "markdown",
   "metadata": {},
   "source": [
    "<b>3.2 Generating an approximate sampling distribution</b>\n",
    "\n",
    "Calculating the exact sampling distribution is only possible in very simple situations. With just five eight-sided dice, the number of possible rolls is 8**5, which is over thirty thousand. When the dataset is more complicated, for example, where a variable has hundreds or thousands of categories, the number of possible outcomes becomes too difficult to compute exactly.\n",
    "\n",
    "In this situation, you can calculate an approximate sampling distribution by simulating the exact sampling distribution. That is, you can repeat a procedure over and over again to simulate both the sampling process and the sample statistic calculation process."
   ]
  },
  {
   "cell_type": "code",
   "execution_count": 87,
   "metadata": {},
   "outputs": [
    {
     "name": "stdout",
     "output_type": "stream",
     "text": [
      "3.6\n"
     ]
    }
   ],
   "source": [
    "'''\n",
    "- Sample one to eight, five times, with replacement. Assign to five_rolls.\n",
    "- Calculate the mean of five_rolls.'''\n",
    "\n",
    "import numpy as np\n",
    "# Sample one to eight, five times, with replacement\n",
    "five_rolls = np.random.choice(list(range(1, 9)), size=5, replace=True)\n",
    "\n",
    "# Print the mean of five_rolls\n",
    "print(np.mean(five_rolls))"
   ]
  },
  {
   "cell_type": "code",
   "execution_count": 88,
   "metadata": {},
   "outputs": [
    {
     "name": "stdout",
     "output_type": "stream",
     "text": [
      "[6.0, 5.2, 4.0, 4.6, 3.8, 4.2, 3.4, 5.4, 6.4, 5.8]\n"
     ]
    }
   ],
   "source": [
    "'''Replicate the sampling code 1000 times, assigning each result to the list sample_means_1000.'''\n",
    "# Replicate the sampling code 1000 times\n",
    "sample_means_1000 = []\n",
    "for i in range(1000):\n",
    "    sample_means_1000.append(\n",
    "  \t\tnp.random.choice(list(range(1, 9)), size=5, replace=True).mean()\n",
    "    )\n",
    "    \n",
    "# Print the first 10 entries of the result\n",
    "print(sample_means_1000[0:10])"
   ]
  },
  {
   "cell_type": "code",
   "execution_count": 89,
   "metadata": {},
   "outputs": [
    {
     "data": {
      "image/png": "[encoded data removed]",
      "text/plain": [
       "<Figure size 640x480 with 1 Axes>"
      ]
     },
     "metadata": {},
     "output_type": "display_data"
    }
   ],
   "source": [
    "'''Plot sample_means_1000 as a histogram with 20 bins.'''\n",
    "# Draw a histogram of sample_means_1000 with 20 bins\n",
    "plt.hist(sample_means_1000, bins=20)\n",
    "plt.show()"
   ]
  },
  {
   "cell_type": "markdown",
   "metadata": {},
   "source": [
    "Once your dataset gets sufficiently big, exact sampling distributions cannot be calculated, so an approximate sampling distribution must be used. Notice that the histogram is close to but not exactly the same as the shape of the bar graph from the previous exercise."
   ]
  },
  {
   "cell_type": "markdown",
   "metadata": {},
   "source": [
    "<b>3.3 Exact vs. approximate</b>\n",
    "\n",
    "You've seen two types of sampling distribution now (exact and approximate). It's really important to understand when each should be computed.\n",
    "\n",
    "Should we always be able to compute the exact sampling distribution directly?\n",
    "\n",
    "- No, the exact sampling distribution is always unknown even for calculating the sample mean of a small number of die tosses like 2 or 3.\n",
    "\n",
    "- Yes, the population will always be known ahead of time, so one extra calculation is no problem.\n",
    "\n",
    "- Yes, the exact sampling distribution can be generated using a for loop, so it should be possible in all circumstances.\n",
    "\n",
    "- No, the computational time and resources needed to look at the population of values could be too much for our problem.(True)\n",
    "\n",
    "\n",
    "The exact sampling distribution can only be calculated if you know what the population is and if the problems are small and simple enough to compute. Otherwise, the approximate sampling distribution must be used."
   ]
  },
  {
   "cell_type": "markdown",
   "metadata": {},
   "source": [
    "# 4. Standard errors and the Central Limit Theorem"
   ]
  },
  {
   "cell_type": "markdown",
   "metadata": {},
   "source": [
    "<b>4.1 Population & sampling distribution means</b>\n",
    "\n",
    "One of the useful features of sampling distributions is that you can quantify them. Specifically, you can calculate summary statistics on them. Here, you'll look at the relationship between the mean of the sampling distribution and the population parameter's mean.\n",
    "\n",
    "Three sampling distributions are provided. For each, the employee attrition dataset was sampled using simple random sampling, then the mean attrition was calculated. This was done 1000 times to get a sampling distribution of mean attritions. One sampling distribution used a sample size of 5 for each replicate, one used 50, and one used 500."
   ]
  },
  {
   "cell_type": "code",
   "execution_count": 90,
   "metadata": {},
   "outputs": [
    {
     "name": "stdout",
     "output_type": "stream",
     "text": [
      "The mean of Attrition in the population sample is:  0.16122448979591836\n",
      "\n",
      "\n",
      "The mean of sample means in a sample size of 5:  0.15480000000000002\n",
      "The mean of sample means in a sample size of 50:  0.16202\n",
      "The mean of sample means in a sample size of 500:  0.16111199999999998\n"
     ]
    }
   ],
   "source": [
    "sampling_distribution_5 = []\n",
    "sampling_distribution_50 = []\n",
    "sampling_distribution_500 = []\n",
    "\n",
    "for i in range(1000):\n",
    "    sampling_distribution_5.append(attrition_pop.sample(n=5)['Attrition'].mean())\n",
    "    sampling_distribution_50.append(attrition_pop.sample(n=50)['Attrition'].mean())\n",
    "    sampling_distribution_500.append(attrition_pop.sample(n=500)['Attrition'].mean())\n",
    "\n",
    "# Calculate the mean of the mean attritions for each sampling distribution\n",
    "mean_of_means_5 = np.mean(sampling_distribution_5)\n",
    "mean_of_means_50 = np.mean(sampling_distribution_50)\n",
    "mean_of_means_500 = np.mean(sampling_distribution_500)\n",
    "\n",
    "# Print the results\n",
    "print('The mean of Attrition in the population sample is: ', attrition_pop['Attrition'].mean())\n",
    "print('\\n')\n",
    "print('The mean of sample means in a sample size of 5: ', mean_of_means_5)\n",
    "print('The mean of sample means in a sample size of 50: ',mean_of_means_50)\n",
    "print('The mean of sample means in a sample size of 500: ',mean_of_means_500)"
   ]
  },
  {
   "cell_type": "markdown",
   "metadata": {},
   "source": [
    "<b>Question</b>\n",
    "\n",
    "How does sample size affect the mean of the sample means?\n",
    "\n",
    "Possible Answers:\n",
    "\n",
    "- As the sample size increases, the mean of the sampling distribution decreases until it reaches the population mean.\n",
    "\n",
    "- As the sample size increases, the mean of the sampling distribution increases until it reaches the population mean.\n",
    "\n",
    "- Regardless of sample size, the mean of the sampling distribution is a close approximation to the population mean.\n",
    "\n",
    "- Regardless of sample size, the mean of the sampling distribution is biased and cannot approximate the population mean. (True)\n",
    "\n",
    "Even for small sample sizes, the mean of the sampling distribution is a good approximation of the population mean."
   ]
  },
  {
   "cell_type": "markdown",
   "metadata": {},
   "source": [
    "<b>4.2 Population & sampling distribution variation</b>\n",
    "\n",
    "You just calculated the mean of the sampling distribution and saw how it is an estimate of the corresponding population parameter. Similarly, as a result of the central limit theorem, the standard deviation of the sampling distribution has an interesting relationship with the population parameter's standard deviation and the sample size."
   ]
  },
  {
   "cell_type": "code",
   "execution_count": 93,
   "metadata": {},
   "outputs": [
    {
     "name": "stdout",
     "output_type": "stream",
     "text": [
      "The population standard deviation:  0.367737887204955\n",
      "0.15793005382732542\n",
      "0.04987591810891512\n",
      "0.01365246665792837\n",
      "   Sample_Size  std sample mean                  Calculation  \\\n",
      "0            5         0.157930    0.367737887204955/sqrt(5)   \n",
      "1           50         0.049876   0.367737887204955/sqrt(50)   \n",
      "2          500         0.013652  0.367737887204955/sqrt(500)   \n",
      "\n",
      "                 result  \n",
      "0    0.1644573827384859  \n",
      "1   0.05200599074836748  \n",
      "2  0.016445738273848588  \n"
     ]
    }
   ],
   "source": [
    "# Calculate the std. dev. of the mean attritions for each sampling distribution\n",
    "pop_std = attrition_pop['Attrition'].std(ddof=0)\n",
    "sd_of_means_5 = np.std(sampling_distribution_5, ddof=1)\n",
    "sd_of_means_50 = np.std(sampling_distribution_50, ddof=1)\n",
    "sd_of_means_500 = np.std(sampling_distribution_500, ddof=1)\n",
    "\n",
    "# Print the results\n",
    "print('The population standard deviation: ', pop_std)\n",
    "print(sd_of_means_5)\n",
    "print(sd_of_means_50)\n",
    "print(sd_of_means_500)\n",
    "\n",
    "Summary = pd.DataFrame(\n",
    "    {'Sample_Size': [5, 50, 500],\n",
    "     'std sample mean': [sd_of_means_5, sd_of_means_50, sd_of_means_500],\n",
    "     'Calculation': [f'{pop_std}''/sqrt(5)', f'{pop_std}''/sqrt(50)', f'{pop_std}''/sqrt(500)'],\n",
    "     'result':[f'{attrition_pop[\"Attrition\"].std(ddof=0)/np.sqrt(5)}', f'{attrition_pop[\"Attrition\"].std(ddof=0)/np.sqrt(50)}', \n",
    "                    f'{attrition_pop[\"Attrition\"].std(ddof=0)/np.sqrt(500)}']\n",
    "    \n",
    "    }\n",
    ")\n",
    "\n",
    "print(Summary)"
   ]
  },
  {
   "cell_type": "markdown",
   "metadata": {},
   "source": [
    "<b>Question</b>\n",
    "\n",
    "How are the standard deviations of the sampling distributions related to the population standard deviation and the sample size?\n",
    "\n",
    "Possible Answers\n",
    "\n",
    "- The standard deviation of the sampling distribution is approximately equal to the population standard deviation, regardless of sample size.\n",
    "\n",
    "- The standard deviation of the sampling distribution is approximately equal to the population standard deviation multiplied by the sample size.\n",
    "\n",
    "- The standard deviation of the sampling distribution is approximately equal to the population standard deviation multiplied by the square root of the sample size.\n",
    "\n",
    "- The standard deviation of the sampling distribution is approximately equal to the population standard deviation divided by the sample size.\n",
    "\n",
    "- The standard deviation of the sampling distribution is approximately equal to the population standard deviation divided by the square root of the sample size.   (True)\n",
    "\n",
    "\n",
    "The amount of variation in the sampling distribution is related to the amount of variation in the population and the sample size. This is another consequence of the Central Limit Theorem."
   ]
  }
 ],
 "metadata": {
  "kernelspec": {
   "display_name": "Python 3.10.8 64-bit (microsoft store)",
   "language": "python",
   "name": "python3"
  },
  "language_info": {
   "codemirror_mode": {
    "name": "ipython",
    "version": 3
   },
   "file_extension": ".py",
   "mimetype": "text/x-python",
   "name": "python",
   "nbconvert_exporter": "python",
   "pygments_lexer": "ipython3",
   "version": "3.10.8"
  },
  "orig_nbformat": 4,
  "vscode": {
   "interpreter": {
    "hash": "cd85abab4e42ed52d78993b1b54e037968b74145d44eb01d9e116517c8fc42a2"
   }
  }
 },
 "nbformat": 4,
 "nbformat_minor": 2
}

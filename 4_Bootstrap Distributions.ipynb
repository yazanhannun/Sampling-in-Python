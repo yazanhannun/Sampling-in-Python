{
 "cells": [
  {
   "cell_type": "markdown",
   "metadata": {},
   "source": [
    "# Bootstrap Distributions"
   ]
  },
  {
   "cell_type": "markdown",
   "metadata": {},
   "source": [
    "# 1. Introduction to bootstrapping"
   ]
  },
  {
   "cell_type": "markdown",
   "metadata": {},
   "source": [
    "<b>1.1 Principles of bootstrapping</b>\n",
    "\n",
    "Bootstrapping is, in some sense, the opposite of sampling from a population. Sampling treats your dataset as the population, and you generate a random subset. Bootstrapping treats your dataset as a sample and uses it to build up a theoretical population.\n",
    "\n",
    "The bootstrapping workflow is to generate a resample of the same size as the population, calculate a summary statistic, then repeat this to get a distribution of summary statistics."
   ]
  },
  {
   "cell_type": "markdown",
   "metadata": {},
   "source": [
    "<b>1.2 With or without replacement?</b>\n",
    "\n",
    "So far in the course, you've seen sampling with and without replacement. It's important to know when to use each method.\n",
    "\n",
    "The key to deciding whether to sample without or with replacement is whether or not your dataset is best thought of as being the whole population or not."
   ]
  },
  {
   "cell_type": "markdown",
   "metadata": {},
   "source": [
    "<b>1.3 Generating a bootstrap distribution</b>\n",
    "\n",
    "The process for generating a bootstrap distribution is similar to the process for generating a sampling distribution; only the first step is different.\n",
    "\n",
    "To make a sampling distribution, you start with the population and sample without replacement. To make a bootstrap distribution, you start with a sample and sample that with replacement. After that, the steps are the same: calculate the summary statistic that you are interested in on that sample/resample, then replicate the process many times. In each case, you can visualize the distribution with a histogram.\n",
    "\n",
    "Here, spotify_sample is a subset of the spotify_population dataset. To make it easier to see how resampling works, a row index column called 'index' has been added, and only the artist name, song name, and danceability columns have been included."
   ]
  },
  {
   "cell_type": "code",
   "execution_count": 182,
   "metadata": {},
   "outputs": [
    {
     "name": "stdout",
     "output_type": "stream",
     "text": [
      "   acousticness          artists  danceability  duration_ms  duration_minutes  \\\n",
      "0       0.97200  ['David Bauer']         0.567     313293.0          5.221550   \n",
      "1       0.32100   ['Etta James']         0.821     360240.0          6.004000   \n",
      "2       0.00659    ['Quasimoto']         0.706     202507.0          3.375117   \n",
      "3       0.00390  ['Millencolin']         0.368     173360.0          2.889333   \n",
      "4       0.12200   ['Steve Chou']         0.501     344200.0          5.736667   \n",
      "\n",
      "   energy  explicit                      id  instrumentalness   key  liveness  \\\n",
      "0   0.227       0.0  0w0D8H1ubRerCXHWYJkinO          0.601000  10.0     0.110   \n",
      "1   0.418       0.0  4JVeqfE2tpi7Pv63LJZtPh          0.000372   9.0     0.222   \n",
      "2   0.602       1.0  5pxtdhLAi0RTh1gNqhGMNA          0.000138  11.0     0.400   \n",
      "3   0.977       0.0  3jRsoe4Vkxa4BMYqGHX8L0          0.000000  11.0     0.350   \n",
      "4   0.511       0.0  4mronxcllhfyhBRqyZi8kU          0.000000   7.0     0.279   \n",
      "\n",
      "   loudness  mode                   name  popularity release_date  \\\n",
      "0   -13.441   1.0      Shout to the Lord        47.0         2000   \n",
      "1    -9.841   0.0               Miss You        51.0   2000-12-12   \n",
      "2    -8.306   0.0              Real Eyes        44.0   2000-06-13   \n",
      "3    -2.757   0.0  Penguins & Polarbears        52.0   2000-02-22   \n",
      "4    -9.836   0.0                     黃昏        53.0   2000-12-25   \n",
      "\n",
      "   speechiness    tempo  valence    year  \n",
      "0       0.0290  136.123   0.0396  2000.0  \n",
      "1       0.0407  117.382   0.8030  2000.0  \n",
      "2       0.3420   89.692   0.4790  2000.0  \n",
      "3       0.1270  165.889   0.5480  2000.0  \n",
      "4       0.0291   78.045   0.1130  2000.0  \n",
      "\n",
      "\n",
      "   index          artists                   name  danceability\n",
      "0      0  ['David Bauer']      Shout to the Lord         0.567\n",
      "1      1   ['Etta James']               Miss You         0.821\n",
      "2      2    ['Quasimoto']              Real Eyes         0.706\n",
      "3      3  ['Millencolin']  Penguins & Polarbears         0.368\n",
      "4      4   ['Steve Chou']                     黃昏         0.501\n"
     ]
    }
   ],
   "source": [
    "import pandas as pd\n",
    "import matplotlib.pyplot as plt\n",
    "import numpy as np\n",
    "spotify_pop = pd.read_feather('C:\\\\Users\\\\yazan\\\\Desktop\\\\Data_Analytics\\\\8-Sampling in Python\\\\Datasets\\\\spotify_2000_2020.feather')\n",
    "print(spotify_pop.head())\n",
    "\n",
    "\n",
    "spotify_sample = spotify_pop[['artists', 'name', 'danceability']]\n",
    "spotify_sample = spotify_sample.reset_index()\n",
    "print('\\n')\n",
    "print(spotify_sample.head())"
   ]
  },
  {
   "cell_type": "code",
   "execution_count": 183,
   "metadata": {},
   "outputs": [
    {
     "name": "stdout",
     "output_type": "stream",
     "text": [
      "       index                       artists                               name  \\\n",
      "13101  13101               ['Fiona Apple']  Tymps (The Sick in the Head Song)   \n",
      "31043  31043                      ['Ruel']                                Say   \n",
      "609      609                      ['Reik']                           Invierno   \n",
      "31101  31101  ['PnB Rock', 'XXXTENTACION']                       MIDDLE CHILD   \n",
      "31344  31344                    ['*NSYNC']                No Strings Attached   \n",
      "\n",
      "       danceability  \n",
      "13101         0.850  \n",
      "31043         0.617  \n",
      "609           0.665  \n",
      "31101         0.750  \n",
      "31344         0.665  \n"
     ]
    }
   ],
   "source": [
    "'''Generate a single bootstrap resample from spotify_sample'''\n",
    "\n",
    "# Generate 1 bootstrap resample\n",
    "spotify_1_resample = spotify_sample.sample(frac=1, replace=True)\n",
    "\n",
    "# Print the resample\n",
    "print(spotify_1_resample.head())"
   ]
  },
  {
   "cell_type": "code",
   "execution_count": 184,
   "metadata": {},
   "outputs": [
    {
     "name": "stdout",
     "output_type": "stream",
     "text": [
      "0.5909081380833493\n"
     ]
    }
   ],
   "source": [
    "'''Calculate the mean of the danceability column of spotify_1_resample using numpy'''\n",
    "\n",
    "# Calculate mean danceability of resample\n",
    "mean_danceability_1 = np.mean(spotify_1_resample['danceability'])\n",
    "\n",
    "# Print the result\n",
    "print(mean_danceability_1)"
   ]
  },
  {
   "cell_type": "code",
   "execution_count": 185,
   "metadata": {},
   "outputs": [
    {
     "name": "stdout",
     "output_type": "stream",
     "text": [
      "[0.5907991189744575, 0.590698329172268, 0.5898962862492798, 0.5907965743230267, 0.5921348089110813, 0.5912475273670059, 0.5923006433647013, 0.5926942745342808, 0.5924480290954485, 0.5900086590167083]\n"
     ]
    }
   ],
   "source": [
    "'''Replicate the expression provided 1000 times'''\n",
    "\n",
    "# Replicate this 1000 times\n",
    "mean_danceability_1000 = []\n",
    "for i in range(1000):\n",
    "\tmean_danceability_1000.append(\n",
    "        np.mean(spotify_sample.sample(frac=1, replace=True)['danceability'])\n",
    "\t)\n",
    "  \n",
    "# Print the result\n",
    "print(mean_danceability_1000[:10])"
   ]
  },
  {
   "cell_type": "code",
   "execution_count": 186,
   "metadata": {},
   "outputs": [
    {
     "data": {
      "image/png": "[encoded data removed]",
      "text/plain": [
       "<Figure size 640x480 with 1 Axes>"
      ]
     },
     "metadata": {},
     "output_type": "display_data"
    }
   ],
   "source": [
    "'''Create a bootstrap distribution by drawing a histogram of mean_danceability_1000'''\n",
    "\n",
    "# Draw a histogram of the resample means\n",
    "plt.hist(mean_danceability_1000)\n",
    "plt.show()"
   ]
  },
  {
   "cell_type": "markdown",
   "metadata": {},
   "source": [
    "From the smaller sample of Spotify songs, we can estimate the mean danceability statistic in the population. Since we have a distribution of statistics, we can even quantify how accurate our estimate is."
   ]
  },
  {
   "cell_type": "markdown",
   "metadata": {},
   "source": [
    "# 2. Comparing sampling and bootstrap distributions "
   ]
  },
  {
   "cell_type": "markdown",
   "metadata": {},
   "source": [
    "<b>2.1 Bootstrap statistics and population statistics</b>\n",
    "\n",
    "Bootstrap distribution statistics can be used to estimate population parameters. But can you always rely on them to give an accurate estimate of an unknown population parameter?\n",
    "\n",
    "Should the mean and the standard deviation of the bootstrap distribution both be used to estimate the corresponding values of the population?\n",
    "\n",
    "- No, the standard deviation of the bootstrap distribution divided by the square root of the sample size will tend to be near the sample standard deviation, which may not necessarily be very close to the population standard deviation.\n",
    "\n",
    "- Yes, both estimates should match up closely with the population values in all scenarios.\n",
    "\n",
    "- No, the mean of the bootstrap distribution will always be near the sample mean, which may not necessarily be very close to the population mean.    (True)\n",
    "\n",
    "- Yes, the variability of the sample, the population, the bootstrap distribution, and the sampling distribution will all be similar regardless of the sample size selected.\n",
    "\n",
    "\n",
    "\n",
    "If the sample is not closely representative of the population, then the mean of the bootstrap distribution will not be representative of the population mean. This is less of a problem for standard errors."
   ]
  },
  {
   "cell_type": "markdown",
   "metadata": {},
   "source": [
    "<b>2.2 Sampling distribution vs. bootstrap distribution</b>\n",
    "\n",
    "The sampling distribution and bootstrap distribution are closely linked. In situations where you can repeatedly sample from a population (these occasions are rare), it's helpful to generate both the sampling distribution and the bootstrap distribution, one after the other, to see how they are related.\n",
    "\n",
    "Here, the statistic you are interested in is the mean popularity score of the songs.\n",
    "\n",
    "spotify_population (the whole dataset) and spotify_sample (500 randomly sampled rows from spotify_population) are available; pandas and numpy are loaded with their usual aliases."
   ]
  },
  {
   "cell_type": "code",
   "execution_count": 187,
   "metadata": {},
   "outputs": [
    {
     "name": "stdout",
     "output_type": "stream",
     "text": [
      "[55.328, 55.396, 55.228, 54.732, 54.702, 54.898, 54.704, 54.634, 55.788, 54.824]\n"
     ]
    }
   ],
   "source": [
    "'''\n",
    "- Generate a sampling distribution of 2000 replicates.\n",
    "- Sample 500 rows of the population without replacement and calculate the mean popularity\n",
    "'''\n",
    "\n",
    "mean_popularity_2000_samp = []\n",
    "\n",
    "# Generate a sampling distribution of 2000 replicates\n",
    "for i in range(2000):\n",
    "    mean_popularity_2000_samp.append(\n",
    "    \t# Sample 500 rows and calculate the mean popularity \n",
    "    \tspotify_pop.sample(n=500)['popularity'].mean()\n",
    "    )\n",
    "\n",
    "# Print the sampling distribution results\n",
    "print(mean_popularity_2000_samp[:10])"
   ]
  },
  {
   "cell_type": "code",
   "execution_count": 188,
   "metadata": {},
   "outputs": [
    {
     "name": "stdout",
     "output_type": "stream",
     "text": [
      "[55.756, 55.208, 54.36, 54.632, 55.05, 54.408, 55.098, 55.552, 55.494, 55.264]\n"
     ]
    }
   ],
   "source": [
    "'''\n",
    "- Generate a bootstrap distribution of 2000 replicates.\n",
    "- Sample 500 rows of the sample with replacement and calculate the mean popularity\n",
    "'''\n",
    "spotify_sample = spotify_pop.sample(n=500)\n",
    "\n",
    "mean_popularity_2000_boot = []\n",
    "\n",
    "# Generate a bootstrap distribution of 2000 replicates\n",
    "for i in range(2000):\n",
    "    mean_popularity_2000_boot.append(\n",
    "    \t# Resample 500 rows and calculate the mean popularity     \n",
    "    \tnp.mean(spotify_sample.sample(frac=1, replace=True)['popularity'])\n",
    "    )\n",
    "\n",
    "# Print the bootstrap distribution results\n",
    "print(mean_popularity_2000_boot[:10])\n"
   ]
  },
  {
   "cell_type": "markdown",
   "metadata": {},
   "source": [
    "<b>2.3 Compare sampling and bootstrap means</b>\n",
    "\n",
    "To make calculation easier, distributions similar to those calculated from the previous exercise have been included, this time using a sample size of 5000.\n",
    "\n",
    "spotify_population, spotify_sample, sampling_distribution, and bootstrap_distribution are available; pandas and numpy are loaded with their usual aliases."
   ]
  },
  {
   "cell_type": "code",
   "execution_count": 189,
   "metadata": {},
   "outputs": [],
   "source": [
    "spotify_sample = spotify_pop.sample(n=5000)\n",
    "\n",
    "sampling_distribution = []\n",
    "\n",
    "# Generate a sampling distribution of 2000 replicates\n",
    "for i in range(2000):\n",
    "    sampling_distribution.append(\n",
    "    \t# Sample 500 rows and calculate the mean popularity \n",
    "    \tspotify_pop.sample(n=5000)['popularity'].mean()\n",
    "    )\n",
    "\n",
    "\n",
    "bootstrap_distribution = []\n",
    "\n",
    "# Generate a bootstrap distribution of 2000 replicates\n",
    "for i in range(2000):\n",
    "    bootstrap_distribution.append(\n",
    "    \t# Resample 500 rows and calculate the mean popularity     \n",
    "    \tnp.mean(spotify_sample.sample(frac=1, replace=True)['popularity'])\n",
    "    )"
   ]
  },
  {
   "cell_type": "code",
   "execution_count": 190,
   "metadata": {},
   "outputs": [
    {
     "name": "stdout",
     "output_type": "stream",
     "text": [
      "[54.837142308430955, 54.6456, 54.8354254, 54.6477399]\n"
     ]
    }
   ],
   "source": [
    "# Calculate the population mean popularity\n",
    "pop_mean = spotify_pop['popularity'].mean()\n",
    "\n",
    "# Calculate the original sample mean popularity\n",
    "samp_mean = spotify_sample['popularity'].mean()\n",
    "\n",
    "# Calculate the sampling dist'n estimate of mean popularity\n",
    "samp_distn_mean = np.mean(sampling_distribution)\n",
    "\n",
    "# Calculate the bootstrap dist'n estimate of mean popularity\n",
    "boot_distn_mean = np.mean(bootstrap_distribution)\n",
    "\n",
    "# Print the means\n",
    "print([pop_mean, samp_mean, samp_distn_mean, boot_distn_mean])"
   ]
  },
  {
   "cell_type": "markdown",
   "metadata": {},
   "source": [
    "The sampling distribution and bootstrap distribution are closely related, and so is the code to generate them."
   ]
  },
  {
   "cell_type": "markdown",
   "metadata": {},
   "source": [
    "<b>Question</b>\n",
    "\n",
    "Based on the four means you just calculated (pop_mean, samp_mean, samp_distn_mean, and boot_distn_mean), which statement is true?\n",
    "\n",
    "Possible Answers:\n",
    "\n",
    "- The sampling distribution mean is closest to the original sample mean; the bootstrap distribution mean is the best estimate of the true population mean.\n",
    "\n",
    "- The sampling distribution mean is the best estimate of the true population mean; the bootstrap distribution mean is closest to the original sample mean.  (True)\n",
    "\n",
    "- The sampling distribution mean and the bootstrap distribution mean are equally good estimates of the original sample mean.\n",
    "\n",
    "- The sampling distribution mean and the bootstrap distribution mean are equally good estimates of the true population mean.\n",
    "\n",
    "\n",
    "The sampling distribution mean can be used to estimate the population mean, but that is not the case with the bootstrap distribution."
   ]
  },
  {
   "cell_type": "markdown",
   "metadata": {},
   "source": [
    "<b>2.3 Compare sampling and bootstrap standard deviations</b>\n",
    "\n",
    "In the same way that you looked at how the sampling distribution and bootstrap distribution could be used to estimate the population mean, you'll now take a look at how they can be used to estimate variation, or more specifically, the standard deviation, in the population.\n",
    "\n",
    "Recall that the sample size is 5000.\n",
    "\n",
    "spotify_population, spotify_sample, sampling_distribution, and bootstrap_distribution are available; pandas and numpy are loaded with their usual aliases."
   ]
  },
  {
   "cell_type": "code",
   "execution_count": 191,
   "metadata": {},
   "outputs": [
    {
     "name": "stdout",
     "output_type": "stream",
     "text": [
      "[10.880065274257536, 10.906172085471217, 10.10674789191238, 11.107033489479457]\n"
     ]
    }
   ],
   "source": [
    "# Calculate the population mean popularity\n",
    "pop_std = spotify_pop['popularity'].std(ddof=0)\n",
    "\n",
    "# Calculate the original sample mean popularity\n",
    "samp_std = spotify_sample['popularity'].std()\n",
    "\n",
    "# Calculate the sampling dist'n estimate of mean popularity\n",
    "samp_distn_std = np.std(sampling_distribution, ddof=1) * np.sqrt(5000)\n",
    "\n",
    "# Calculate the bootstrap dist'n estimate of mean popularity\n",
    "boot_distn_std = np.std(bootstrap_distribution, ddof=1) * np.sqrt(5000)\n",
    "\n",
    "# Print the means\n",
    "print([pop_std, samp_std, samp_distn_std, boot_distn_std])"
   ]
  },
  {
   "cell_type": "markdown",
   "metadata": {},
   "source": [
    "<b>Question</b>\n",
    "\n",
    "Based on the four results you just calculated (pop_sd, samp_sd, samp_distn_sd, and boot_distn_sd), which statement is true?\n",
    "\n",
    "Possible Answers\n",
    "\n",
    "- The calculation from the bootstrap distribution is the best estimate of the population standard deviation. (True)\n",
    "\n",
    "- The calculation from the sampling distribution is the best estimate of the population standard deviation.\n",
    "\n",
    "- The calculation from the sample is the best estimate of the population standard deviation.\n",
    "\n",
    "- The calculations from both the sampling distribution and from the bootstrap distribution are equally close to the population standard deviation.\n",
    "\n",
    "\n",
    "This is an important property of the bootstrap distribution. When you don't have all the values from the population or the ability to sample multiple times, you can use bootstrapping to get a good estimate of the population standard deviation."
   ]
  },
  {
   "cell_type": "markdown",
   "metadata": {},
   "source": [
    "# 4. Confidence intervals"
   ]
  },
  {
   "cell_type": "markdown",
   "metadata": {},
   "source": [
    "<b>4.1 Confidence interval interpretation</b>\n",
    "\n",
    "When reporting results, it is common to provide a confidence interval alongside an estimate.\n",
    "\n",
    "What information does that confidence interval provide?\n",
    "\n",
    "- A range of all possible values that a variable from a sample may take on.\n",
    "\n",
    "- All numbers between 0 and 1.\n",
    "\n",
    "- A range of plausible values for a variable measured in our population (such as popularity in spotify_population).\n",
    "\n",
    "- A range of plausible values for an unknown quantity. (True)\n",
    "\n",
    "Confidence intervals account for uncertainty in our estimate of a population parameter by providing a range of possible values. We are confident that the true value lies somewhere in the interval specified by that range."
   ]
  },
  {
   "cell_type": "markdown",
   "metadata": {},
   "source": [
    "<b>4.2 Calculating confidence intervals</b>\n",
    "\n",
    "You have learned about two methods for calculating confidence intervals: the quantile method and the standard error method. The standard error method involves using the inverse cumulative distribution function (inverse CDF) of the normal distribution to calculate confidence intervals. In this exercise, you'll perform these two methods on the Spotify data.\n",
    "\n",
    "spotify_population, spotify_sample, and bootstrap_distribution are available; pandas and numpy are loaded with their usual aliases, and norm has been loaded from scipy.stats."
   ]
  },
  {
   "cell_type": "code",
   "execution_count": 192,
   "metadata": {},
   "outputs": [
    {
     "name": "stdout",
     "output_type": "stream",
     "text": [
      "(54.344985, 54.970475)\n"
     ]
    }
   ],
   "source": [
    "'''\n",
    "Generate a 95% confidence interval using the quantile method on the bootstrap distribution, setting the \n",
    "0.025 quantile as lower_quant and the 0.975 quantile as upper_quant.'''\n",
    "\n",
    "# Generate a 95% confidence interval using the quantile method\n",
    "lower_quant = np.quantile(bootstrap_distribution, 0.025)\n",
    "upper_quant = np.quantile(bootstrap_distribution, 0.975)\n",
    "\n",
    "# Print quantile method confidence interval\n",
    "print((lower_quant, upper_quant))"
   ]
  },
  {
   "cell_type": "code",
   "execution_count": 193,
   "metadata": {},
   "outputs": [
    {
     "name": "stdout",
     "output_type": "stream",
     "text": [
      "(54.339874296195006, 54.95560550380499)\n"
     ]
    }
   ],
   "source": [
    "'''\n",
    "- Generate a 95% confidence interval using the standard error method from the bootstrap distribution.\n",
    "- Calculate point_estimate as the mean of bootstrap_distribution, and standard_error as the standard deviation \n",
    "  of bootstrap_distribution.\n",
    "- Calculate lower_se as the 0.025 quantile of an inv. CDF from a normal distribution with mean point_estimate \n",
    "  and standard deviation standard_error.\n",
    "- Calculate upper_se as the 0.975 quantile of that same inv. CDF.\n",
    "'''\n",
    "from scipy.stats import norm\n",
    "# Find the mean and std dev of the bootstrap distribution\n",
    "point_estimate = np.mean(bootstrap_distribution)\n",
    "standard_error = np.std(bootstrap_distribution, ddof=1)\n",
    "\n",
    "# Find the lower limit of the confidence interval\n",
    "lower_se = norm.ppf(0.025, loc=point_estimate, scale=standard_error)\n",
    "\n",
    "# Find the upper limit of the confidence interval\n",
    "upper_se = norm.ppf(0.975, loc=point_estimate, scale=standard_error)\n",
    "\n",
    "# Print standard error method confidence interval\n",
    "print((lower_se, upper_se))"
   ]
  },
  {
   "cell_type": "markdown",
   "metadata": {},
   "source": [
    "The standard error method for calculating the confidence interval assumes that the bootstrap distribution is normal. This assumption should hold if the sample size and number of replicates are sufficiently large."
   ]
  }
 ],
 "metadata": {
  "kernelspec": {
   "display_name": "Python 3.10.8 64-bit (microsoft store)",
   "language": "python",
   "name": "python3"
  },
  "language_info": {
   "codemirror_mode": {
    "name": "ipython",
    "version": 3
   },
   "file_extension": ".py",
   "mimetype": "text/x-python",
   "name": "python",
   "nbconvert_exporter": "python",
   "pygments_lexer": "ipython3",
   "version": "3.10.8"
  },
  "orig_nbformat": 4,
  "vscode": {
   "interpreter": {
    "hash": "cd85abab4e42ed52d78993b1b54e037968b74145d44eb01d9e116517c8fc42a2"
   }
  }
 },
 "nbformat": 4,
 "nbformat_minor": 2
}

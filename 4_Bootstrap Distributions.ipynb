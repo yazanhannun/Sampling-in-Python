{
 "cells": [
  {
   "cell_type": "markdown",
   "metadata": {},
   "source": [
    "# Bootstrap Distributions"
   ]
  },
  {
   "cell_type": "markdown",
   "metadata": {},
   "source": [
    "# 1. Introduction to bootstrapping"
   ]
  },
  {
   "cell_type": "markdown",
   "metadata": {},
   "source": [
    "<b>1.1 Principles of bootstrapping</b>\n",
    "\n",
    "Bootstrapping is, in some sense, the opposite of sampling from a population. Sampling treats your dataset as the population, and you generate a random subset. Bootstrapping treats your dataset as a sample and uses it to build up a theoretical population.\n",
    "\n",
    "The bootstrapping workflow is to generate a resample of the same size as the population, calculate a summary statistic, then repeat this to get a distribution of summary statistics."
   ]
  },
  {
   "cell_type": "markdown",
   "metadata": {},
   "source": [
    "<b>1.2 With or without replacement?</b>\n",
    "\n",
    "So far in the course, you've seen sampling with and without replacement. It's important to know when to use each method.\n",
    "\n",
    "The key to deciding whether to sample without or with replacement is whether or not your dataset is best thought of as being the whole population or not."
   ]
  },
  {
   "cell_type": "markdown",
   "metadata": {},
   "source": [
    "<b>1.3 Generating a bootstrap distribution</b>\n",
    "\n",
    "The process for generating a bootstrap distribution is similar to the process for generating a sampling distribution; only the first step is different.\n",
    "\n",
    "To make a sampling distribution, you start with the population and sample without replacement. To make a bootstrap distribution, you start with a sample and sample that with replacement. After that, the steps are the same: calculate the summary statistic that you are interested in on that sample/resample, then replicate the process many times. In each case, you can visualize the distribution with a histogram.\n",
    "\n",
    "Here, spotify_sample is a subset of the spotify_population dataset. To make it easier to see how resampling works, a row index column called 'index' has been added, and only the artist name, song name, and danceability columns have been included."
   ]
  },
  {
   "cell_type": "code",
   "execution_count": 13,
   "metadata": {},
   "outputs": [
    {
     "name": "stdout",
     "output_type": "stream",
     "text": [
      "   acousticness          artists  danceability  duration_ms  duration_minutes  \\\n",
      "0       0.97200  ['David Bauer']         0.567     313293.0          5.221550   \n",
      "1       0.32100   ['Etta James']         0.821     360240.0          6.004000   \n",
      "2       0.00659    ['Quasimoto']         0.706     202507.0          3.375117   \n",
      "3       0.00390  ['Millencolin']         0.368     173360.0          2.889333   \n",
      "4       0.12200   ['Steve Chou']         0.501     344200.0          5.736667   \n",
      "\n",
      "   energy  explicit                      id  instrumentalness   key  liveness  \\\n",
      "0   0.227       0.0  0w0D8H1ubRerCXHWYJkinO          0.601000  10.0     0.110   \n",
      "1   0.418       0.0  4JVeqfE2tpi7Pv63LJZtPh          0.000372   9.0     0.222   \n",
      "2   0.602       1.0  5pxtdhLAi0RTh1gNqhGMNA          0.000138  11.0     0.400   \n",
      "3   0.977       0.0  3jRsoe4Vkxa4BMYqGHX8L0          0.000000  11.0     0.350   \n",
      "4   0.511       0.0  4mronxcllhfyhBRqyZi8kU          0.000000   7.0     0.279   \n",
      "\n",
      "   loudness  mode                   name  popularity release_date  \\\n",
      "0   -13.441   1.0      Shout to the Lord        47.0         2000   \n",
      "1    -9.841   0.0               Miss You        51.0   2000-12-12   \n",
      "2    -8.306   0.0              Real Eyes        44.0   2000-06-13   \n",
      "3    -2.757   0.0  Penguins & Polarbears        52.0   2000-02-22   \n",
      "4    -9.836   0.0                     黃昏        53.0   2000-12-25   \n",
      "\n",
      "   speechiness    tempo  valence    year  \n",
      "0       0.0290  136.123   0.0396  2000.0  \n",
      "1       0.0407  117.382   0.8030  2000.0  \n",
      "2       0.3420   89.692   0.4790  2000.0  \n",
      "3       0.1270  165.889   0.5480  2000.0  \n",
      "4       0.0291   78.045   0.1130  2000.0  \n",
      "\n",
      "\n",
      "   index          artists                   name  danceability\n",
      "0      0  ['David Bauer']      Shout to the Lord         0.567\n",
      "1      1   ['Etta James']               Miss You         0.821\n",
      "2      2    ['Quasimoto']              Real Eyes         0.706\n",
      "3      3  ['Millencolin']  Penguins & Polarbears         0.368\n",
      "4      4   ['Steve Chou']                     黃昏         0.501\n"
     ]
    }
   ],
   "source": [
    "import pandas as pd\n",
    "import matplotlib.pyplot as plt\n",
    "import numpy as np\n",
    "spotify_pop = pd.read_feather('C:\\\\Users\\\\yazan\\\\Desktop\\\\Data_Analytics\\\\8-Sampling in Python\\\\Datasets\\\\spotify_2000_2020.feather')\n",
    "print(spotify_pop.head())\n",
    "\n",
    "spotify_sample = spotify_pop[['artists', 'name', 'danceability']]\n",
    "spotify_sample = spotify_sample.reset_index()\n",
    "print('\\n')\n",
    "print(spotify_sample.head())"
   ]
  },
  {
   "cell_type": "code",
   "execution_count": 14,
   "metadata": {},
   "outputs": [
    {
     "name": "stdout",
     "output_type": "stream",
     "text": [
      "       index                                artists  \\\n",
      "33007  33007  ['Lil Uzi Vert', 'Pharrell Williams']   \n",
      "2819    2819                           ['Bon Jovi']   \n",
      "30491  30491      ['Maribou State', 'Holly Walker']   \n",
      "9983    9983                              ['Drake']   \n",
      "26300  26300           ['Dirty Heads', 'Matisyahu']   \n",
      "\n",
      "                                                  name  danceability  \n",
      "33007              Neon Guts (feat. Pharrell Williams)         0.859  \n",
      "2819   (You Want To) Make A Memory - Pop Album Version         0.510  \n",
      "30491                                           Tongue         0.569  \n",
      "9983                               30 for 30 Freestyle         0.744  \n",
      "26300                                  Dance All Night         0.706  \n"
     ]
    }
   ],
   "source": [
    "'''Generate a single bootstrap resample from spotify_sample'''\n",
    "\n",
    "# Generate 1 bootstrap resample\n",
    "spotify_1_resample = spotify_sample.sample(frac=1, replace=True)\n",
    "\n",
    "# Print the resample\n",
    "print(spotify_1_resample.head())"
   ]
  },
  {
   "cell_type": "code",
   "execution_count": 15,
   "metadata": {},
   "outputs": [
    {
     "name": "stdout",
     "output_type": "stream",
     "text": [
      "0.5908861892644517\n"
     ]
    }
   ],
   "source": [
    "'''Calculate the mean of the danceability column of spotify_1_resample using numpy'''\n",
    "\n",
    "# Calculate mean danceability of resample\n",
    "mean_danceability_1 = np.mean(spotify_1_resample['danceability'])\n",
    "\n",
    "# Print the result\n",
    "print(mean_danceability_1)"
   ]
  },
  {
   "cell_type": "code",
   "execution_count": 16,
   "metadata": {},
   "outputs": [
    {
     "name": "stdout",
     "output_type": "stream",
     "text": [
      "[0.5909711806222392, 0.5909784448818898, 0.592065536777415, 0.5912172052045325, 0.591320981371231, 0.5924425532936431, 0.5904919171307855, 0.5917577083733435, 0.59083806894565, 0.5920705996735164]\n"
     ]
    }
   ],
   "source": [
    "'''Replicate the expression provided 1000 times'''\n",
    "\n",
    "# Replicate this 1000 times\n",
    "mean_danceability_1000 = []\n",
    "for i in range(1000):\n",
    "\tmean_danceability_1000.append(\n",
    "        np.mean(spotify_sample.sample(frac=1, replace=True)['danceability'])\n",
    "\t)\n",
    "  \n",
    "# Print the result\n",
    "print(mean_danceability_1000[:10])"
   ]
  },
  {
   "cell_type": "code",
   "execution_count": 17,
   "metadata": {},
   "outputs": [
    {
     "data": {
      "image/png": "[encoded data removed]",
      "text/plain": [
       "<Figure size 640x480 with 1 Axes>"
      ]
     },
     "metadata": {},
     "output_type": "display_data"
    }
   ],
   "source": [
    "'''Create a bootstrap distribution by drawing a histogram of mean_danceability_1000'''\n",
    "\n",
    "# Draw a histogram of the resample means\n",
    "plt.hist(mean_danceability_1000)\n",
    "plt.show()"
   ]
  },
  {
   "cell_type": "markdown",
   "metadata": {},
   "source": [
    "From the smaller sample of Spotify songs, we can estimate the mean danceability statistic in the population. Since we have a distribution of statistics, we can even quantify how accurate our estimate is."
   ]
  },
  {
   "cell_type": "markdown",
   "metadata": {},
   "source": [
    "# 2. Comparing sampling and bootstrap distributions "
   ]
  },
  {
   "cell_type": "markdown",
   "metadata": {},
   "source": [
    "<b>2.1 Bootstrap statistics and population statistics</b>\n",
    "\n",
    "Bootstrap distribution statistics can be used to estimate population parameters. But can you always rely on them to give an accurate estimate of an unknown population parameter?\n",
    "\n",
    "Should the mean and the standard deviation of the bootstrap distribution both be used to estimate the corresponding values of the population?\n",
    "\n",
    "- No, the standard deviation of the bootstrap distribution divided by the square root of the sample size will tend to be near the sample standard deviation, which may not necessarily be very close to the population standard deviation.\n",
    "\n",
    "- Yes, both estimates should match up closely with the population values in all scenarios.\n",
    "\n",
    "- No, the mean of the bootstrap distribution will always be near the sample mean, which may not necessarily be very close to the population mean.    (True)\n",
    "\n",
    "- Yes, the variability of the sample, the population, the bootstrap distribution, and the sampling distribution will all be similar regardless of the sample size selected."
   ]
  }
 ],
 "metadata": {
  "kernelspec": {
   "display_name": "Python 3.10.8 64-bit (microsoft store)",
   "language": "python",
   "name": "python3"
  },
  "language_info": {
   "codemirror_mode": {
    "name": "ipython",
    "version": 3
   },
   "file_extension": ".py",
   "mimetype": "text/x-python",
   "name": "python",
   "nbconvert_exporter": "python",
   "pygments_lexer": "ipython3",
   "version": "3.10.8"
  },
  "orig_nbformat": 4,
  "vscode": {
   "interpreter": {
    "hash": "cd85abab4e42ed52d78993b1b54e037968b74145d44eb01d9e116517c8fc42a2"
   }
  }
 },
 "nbformat": 4,
 "nbformat_minor": 2
}
